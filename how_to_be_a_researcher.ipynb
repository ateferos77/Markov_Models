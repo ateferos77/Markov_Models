{
 "cells": [
  {
   "cell_type": "markdown",
   "metadata": {},
   "source": [
    "Atefe Rostami"
   ]
  },
  {
   "cell_type": "markdown",
   "metadata": {},
   "source": [
    "# Markov Models"
   ]
  },
  {
   "cell_type": "markdown",
   "metadata": {},
   "source": [
    "In this lab we will use Markov models to study human languages."
   ]
  },
  {
   "cell_type": "markdown",
   "metadata": {},
   "source": [
    "## Data Preparation"
   ]
  },
  {
   "cell_type": "markdown",
   "metadata": {},
   "source": [
    "Before we can actually think about mathematical modeling, we need to gather some sample data to work on. For this lab, we will be retrieving text from the website of [Project Gutenberg](https://www.gutenberg.org/).\n",
    "\n",
    "Go to that project website and find the page for \"The Hound of the Baskervilles\" novel. In particular, load the simple text form of the book.\n",
    "\n",
    "Now define a Python variable `novel` and assign to it the first few paragraphs of Chapter 1."
   ]
  },
  {
   "cell_type": "markdown",
   "metadata": {},
   "source": [
    "<div class=\"alert alert-info\">\n",
    "In Python there is a specific syntax to define multi-line strings. If you use such syntax, you can simply copy and paste the novel text from the Project Gutenberg website.\n",
    "</div>"
   ]
  },
  {
   "cell_type": "code",
   "execution_count": 1,
   "metadata": {},
   "outputs": [],
   "source": [
    "novel = \"\"\"\n",
    "Mr. Sherlock Holmes, who was usually very late in the mornings,\n",
    "      save upon those not infrequent occasions when he was up all\n",
    "      night, was seated at the breakfast table. I stood upon the\n",
    "      hearth-rug and picked up the stick which our visitor had left\n",
    "      behind him the night before. It was a fine, thick piece of wood,\n",
    "      bulbous-headed, of the sort which is known as a “Penang lawyer.”\n",
    "      Just under the head was a broad silver band nearly an inch\n",
    "      across. “To James Mortimer, M.R.C.S., from his friends of the\n",
    "      C.C.H.,” was engraved upon it, with the date “1884.” It was just\n",
    "      such a stick as the old-fashioned family practitioner used to\n",
    "      carry—dignified, solid, and reassuring.\n",
    "\n",
    "      “Well, Watson, what do you make of it?”\n",
    "\n",
    "      Holmes was sitting with his back to me, and I had given him no\n",
    "      sign of my occupation.\n",
    "\n",
    "      “How did you know what I was doing? I believe you have eyes in\n",
    "      the back of your head.”\n",
    "\n",
    "      “I have, at least, a well-polished, silver-plated coffee-pot in\n",
    "      front of me,” said he. “But, tell me, Watson, what do you make of\n",
    "      our visitor’s stick? Since we have been so unfortunate as to miss\n",
    "      him and have no notion of his errand, this accidental souvenir\n",
    "      becomes of importance. Let me hear you reconstruct the man by an\n",
    "      examination of it.”\n",
    "\n",
    "      “I think,” said I, following as far as I could the methods of my\n",
    "      companion, “that Dr. Mortimer is a successful, elderly medical\n",
    "      man, well-esteemed since those who know him give him this mark of\n",
    "      their appreciation.”\n",
    "\n",
    "      “Good!” said Holmes. “Excellent!”\n",
    "\n",
    "      “I think also that the probability is in favour of his being a\n",
    "      country practitioner who does a great deal of his visiting on\n",
    "      foot.”\n",
    "\n",
    "      “Why so?”\n",
    "\n",
    "      “Because this stick, though originally a very handsome one has\n",
    "      been so knocked about that I can hardly imagine a town\n",
    "      practitioner carrying it. The thick-iron ferrule is worn down, so\n",
    "      it is evident that he has done a great amount of walking with\n",
    "      it.”\n",
    "\n",
    "      “Perfectly sound!” said Holmes.\n",
    "\n",
    "      “And then again, there is the ‘friends of the C.C.H.’ I should\n",
    "      guess that to be the Something Hunt, the local hunt to whose\n",
    "      members he has possibly given some surgical assistance, and which\n",
    "      has made him a small presentation in return.”\n",
    "\n",
    "      “Really, Watson, you excel yourself,” said Holmes, pushing back\n",
    "      his chair and lighting a cigarette. “I am bound to say that in\n",
    "      all the accounts which you have been so good as to give of my own\n",
    "      small achievements you have habitually underrated your own\n",
    "      abilities. It may be that you are not yourself luminous, but you\n",
    "      are a conductor of light. Some people without possessing genius\n",
    "      have a remarkable power of stimulating it. I confess, my dear\n",
    "      fellow, that I am very much in your debt.”\n",
    "\n",
    "      He had never said as much before, and I must admit that his words\n",
    "      gave me keen pleasure, for I had often been piqued by his\n",
    "      indifference to my admiration and to the attempts which I had\n",
    "      made to give publicity to his methods. I was proud, too, to think\n",
    "      that I had so far mastered his system as to apply it in a way\n",
    "      which earned his approval. He now took the stick from my hands\n",
    "      and examined it for a few minutes with his naked eyes. Then with\n",
    "      an expression of interest he laid down his cigarette, and\n",
    "      carrying the cane to the window, he looked over it again with a\n",
    "      convex lens.\n",
    "\n",
    "      “Interesting, though elementary,” said he as he returned to his\n",
    "      favourite corner of the settee. “There are certainly one or two\n",
    "      indications upon the stick. It gives us the basis for several\n",
    "      deductions.”\n",
    "\n",
    "      “Has anything escaped me?” I asked with some self-importance. “I\n",
    "      trust that there is nothing of consequence which I have\n",
    "      overlooked?”\n",
    "\n",
    "      “I am afraid, my dear Watson, that most of your conclusions were\n",
    "      erroneous. When I said that you stimulated me I meant, to be\n",
    "      frank, that in noting your fallacies I was occasionally guided\n",
    "      towards the truth. Not that you are entirely wrong in this\n",
    "      instance. The man is certainly a country practitioner. And he\n",
    "      walks a good deal.”\n",
    "\n",
    "      “Then I was right.”\n",
    "\n",
    "      “To that extent.”\n",
    "\n",
    "      “But that was all.”\n",
    "\n",
    "      “No, no, my dear Watson, not all—by no means all. I would\n",
    "      suggest, for example, that a presentation to a doctor is more\n",
    "      likely to come from a hospital than from a hunt, and that when\n",
    "      the initials ‘C.C.’ are placed before that hospital the words\n",
    "      ‘Charing Cross’ very naturally suggest themselves.”\n",
    "\n",
    "      “You may be right.”\n",
    "\n",
    "      “The probability lies in that direction. And if we take this as a\n",
    "      working hypothesis we have a fresh basis from which to start our\n",
    "      construction of this unknown visitor.”\n",
    "\n",
    "      “Well, then, supposing that ‘C.C.H.’ does stand for ‘Charing\n",
    "      Cross Hospital,’ what further inferences may we draw?”\n",
    "\n",
    "      “Do none suggest themselves? You know my methods. Apply them!”\n",
    "\n",
    "      “I can only think of the obvious conclusion that the man has\n",
    "      practised in town before going to the country.”\n",
    "\n",
    "      “I think that we might venture a little farther than this. Look\n",
    "      at it in this light. On what occasion would it be most probable\n",
    "      that such a presentation would be made? When would his friends\n",
    "      unite to give him a pledge of their good will? Obviously at the\n",
    "      moment when Dr. Mortimer withdrew from the service of the\n",
    "      hospital in order to start a practice for himself. We know there\n",
    "      has been a presentation. We believe there has been a change from\n",
    "      a town hospital to a country practice. Is it, then, stretching\n",
    "      our inference too far to say that the presentation was on the\n",
    "      occasion of the change?”\n",
    "\n",
    "      “It certainly seems probable.”\n",
    "\n",
    "      “Now, you will observe that he could not have been on the _staff_\n",
    "      of the hospital, since only a man well-established in a London\n",
    "      practice could hold such a position, and such a one would not\n",
    "      drift into the country. What was he, then? If he was in the\n",
    "      hospital and yet not on the staff he could only have been a\n",
    "      house-surgeon or a house-physician—little more than a senior\n",
    "      student. And he left five years ago—the date is on the stick. So\n",
    "      your grave, middle-aged family practitioner vanishes into thin\n",
    "      air, my dear Watson, and there emerges a young fellow under\n",
    "      thirty, amiable, unambitious, absent-minded, and the possessor of\n",
    "      a favourite dog, which I should describe roughly as being larger\n",
    "      than a terrier and smaller than a mastiff.”\n",
    "\n",
    "      I laughed incredulously as Sherlock Holmes leaned back in his\n",
    "      settee and blew little wavering rings of smoke up to the ceiling.\n",
    "\n",
    "      “As to the latter part, I have no means of checking you,” said I,\n",
    "      “but at least it is not difficult to find out a few particulars\n",
    "      about the man’s age and professional career.” From my small\n",
    "      medical shelf I took down the Medical Directory and turned up the\n",
    "      name. There were several Mortimers, but only one who could be our\n",
    "      visitor. I read his record aloud.\n",
    "\n",
    "        “Mortimer, James, M.R.C.S., 1882, Grimpen, Dartmoor, Devon.\n",
    "        House-surgeon, from 1882 to 1884, at Charing Cross Hospital.\n",
    "        Winner of the Jackson prize for Comparative Pathology, with\n",
    "        essay entitled ‘Is Disease a Reversion?’  Corresponding member\n",
    "        of the Swedish Pathological Society.  Author of ‘Some Freaks of\n",
    "        Atavism’ (_Lancet_ 1882).  ‘Do We Progress?’ (_Journal of\n",
    "        Psychology_, March, 1883). Medical Officer for the parishes of\n",
    "        Grimpen, Thorsley, and High Barrow.”\n",
    "\n",
    "      “No mention of that local hunt, Watson,” said Holmes with a\n",
    "      mischievous smile, “but a country doctor, as you very astutely\n",
    "      observed. I think that I am fairly justified in my inferences. As\n",
    "      to the adjectives, I said, if I remember right, amiable,\n",
    "      unambitious, and absent-minded. It is my experience that it is\n",
    "      only an amiable man in this world who receives testimonials, only\n",
    "      an unambitious one who abandons a London career for the country,\n",
    "      and only an absent-minded one who leaves his stick and not his\n",
    "      visiting-card after waiting an hour in your room.”\n",
    "\n",
    "      “And the dog?”\n",
    "\n",
    "      “Has been in the habit of carrying this stick behind his master.\n",
    "      Being a heavy stick the dog has held it tightly by the middle,\n",
    "      and the marks of his teeth are very plainly visible. The dog’s\n",
    "      jaw, as shown in the space between these marks, is too broad in\n",
    "      my opinion for a terrier and not broad enough for a mastiff. It\n",
    "      may have been—yes, by Jove, it _is_ a curly-haired spaniel.”\n",
    "\n",
    "      He had risen and paced the room as he spoke. Now he halted in the\n",
    "      recess of the window. There was such a ring of conviction in his\n",
    "      voice that I glanced up in surprise.\n",
    "\n",
    "      “My dear fellow, how can you possibly be so sure of that?”\n",
    "\n",
    "      “For the very simple reason that I see the dog himself on our\n",
    "      very door-step, and there is the ring of its owner. Don’t move, I\n",
    "      beg you, Watson. He is a professional brother of yours, and your\n",
    "      presence may be of assistance to me. Now is the dramatic moment\n",
    "      of fate, Watson, when you hear a step upon the stair which is\n",
    "      walking into your life, and you know not whether for good or ill.\n",
    "      What does Dr. James Mortimer, the man of science, ask of Sherlock\n",
    "      Holmes, the specialist in crime? Come in!”\n",
    "\n",
    "      The appearance of our visitor was a surprise to me, since I had\n",
    "      expected a typical country practitioner. He was a very tall, thin\n",
    "      man, with a long nose like a beak, which jutted out between two\n",
    "      keen, grey eyes, set closely together and sparkling brightly from\n",
    "      behind a pair of gold-rimmed glasses. He was clad in a\n",
    "      professional but rather slovenly fashion, for his frock-coat was\n",
    "      dingy and his trousers frayed. Though young, his long back was\n",
    "      already bowed, and he walked with a forward thrust of his head\n",
    "      and a general air of peering benevolence. As he entered his eyes\n",
    "      fell upon the stick in Holmes’s hand, and he ran towards it with\n",
    "      an exclamation of joy. “I am so very glad,” said he. “I was not\n",
    "      sure whether I had left it here or in the Shipping Office. I\n",
    "      would not lose that stick for the world.”\n",
    "\n",
    "      “A presentation, I see,” said Holmes.\n",
    "\n",
    "      “Yes, sir.”\n",
    "\n",
    "      “From Charing Cross Hospital?”\n",
    "\n",
    "      “From one or two friends there on the occasion of my marriage.”\n",
    "\n",
    "      “Dear, dear, that’s bad!” said Holmes, shaking his head.\n",
    "\n",
    "      Dr. Mortimer blinked through his glasses in mild astonishment.\n",
    "      “Why was it bad?”\n",
    "\n",
    "      “Only that you have disarranged our little deductions. Your\n",
    "      marriage, you say?”\n",
    "\n",
    "      “Yes, sir. I married, and so left the hospital, and with it all\n",
    "      hopes of a consulting practice. It was necessary to make a home\n",
    "      of my own.”\n",
    "\n",
    "      “Come, come, we are not so far wrong, after all,” said Holmes.\n",
    "      “And now, Dr. James Mortimer—”\n",
    "\n",
    "      “Mister, sir, Mister—a humble M.R.C.S.”\n",
    "\n",
    "      “And a man of precise mind, evidently.”\n",
    "\n",
    "      “A dabbler in science, Mr. Holmes, a picker up of shells on the\n",
    "      shores of the great unknown ocean. I presume that it is Mr.\n",
    "      Sherlock Holmes whom I am addressing and not—”\n",
    "\n",
    "      “No, this is my friend Dr. Watson.”\n",
    "\n",
    "      “Glad to meet you, sir. I have heard your name mentioned in\n",
    "      connection with that of your friend. You interest me very much,\n",
    "      Mr. Holmes. I had hardly expected so dolichocephalic a skull or\n",
    "      such well-marked supra-orbital development. Would you have any\n",
    "      objection to my running my finger along your parietal fissure? A\n",
    "      cast of your skull, sir, until the original is available, would\n",
    "      be an ornament to any anthropological museum. It is not my\n",
    "      intention to be fulsome, but I confess that I covet your skull.”\n",
    "\n",
    "      Sherlock Holmes waved our strange visitor into a chair. “You are\n",
    "      an enthusiast in your line of thought, I perceive, sir, as I am\n",
    "      in mine,” said he. “I observe from your forefinger that you make\n",
    "      your own cigarettes. Have no hesitation in lighting one.”\n",
    "\n",
    "      The man drew out paper and tobacco and twirled the one up in the\n",
    "      other with surprising dexterity. He had long, quivering fingers\n",
    "      as agile and restless as the antennæ of an insect.\n",
    "\n",
    "      Holmes was silent, but his little darting glances showed me the\n",
    "      interest which he took in our curious companion. “I presume,\n",
    "      sir,” said he at last, “that it was not merely for the purpose of\n",
    "      examining my skull that you have done me the honour to call here\n",
    "      last night and again today?”\n",
    "\n",
    "      “No, sir, no; though I am happy to have had the opportunity of\n",
    "      doing that as well. I came to you, Mr. Holmes, because I\n",
    "      recognized that I am myself an unpractical man and because I am\n",
    "      suddenly confronted with a most serious and extraordinary\n",
    "      problem. Recognizing, as I do, that you are the second highest\n",
    "      expert in Europe—”\n",
    "\n",
    "      “Indeed, sir! May I inquire who has the honour to be the first?”\n",
    "      asked Holmes with some asperity.\n",
    "\n",
    "      “To the man of precisely scientific mind the work of Monsieur\n",
    "      Bertillon must always appeal strongly.”\n",
    "\n",
    "      “Then had you not better consult him?”\n",
    "\n",
    "      “I said, sir, to the precisely scientific mind. But as a\n",
    "      practical man of affairs it is acknowledged that you stand alone.\n",
    "      I trust, sir, that I have not inadvertently—”\n",
    "\n",
    "      “Just a little,” said Holmes. “I think, Dr. Mortimer, you would\n",
    "      do wisely if without more ado you would kindly tell me plainly\n",
    "      what the exact nature of the problem is in which you demand my\n",
    "      assistance.”\n",
    "\"\"\"\n"
   ]
  },
  {
   "cell_type": "code",
   "execution_count": 2,
   "metadata": {},
   "outputs": [
    {
     "data": {
      "text/plain": [
       "13949"
      ]
     },
     "execution_count": 2,
     "metadata": {},
     "output_type": "execute_result"
    }
   ],
   "source": [
    "len(novel)"
   ]
  },
  {
   "cell_type": "markdown",
   "metadata": {},
   "source": [
    "The text that you have just copied it's too complex for our purposes. It contains not only words, but also punctuation marks and empty lines.\n",
    "\n",
    "At the and of our data preparation we want a string containing only words separated by single spaces. Say we start from:\n",
    "\n",
    "```\n",
    "“I have, at least, a well-polished, silver-plated coffee-pot in front of\n",
    "me,” said he.\n",
    "```\n",
    "\n",
    "Our final output should be:\n",
    "\n",
    "```\n",
    "i have at least a well polished silver pated coffee pot in front of me said he\n",
    "```\n",
    "\n",
    "Your first task is therefore to simplify the data, performing the following steps (not necessarily in this order):\n",
    "* remove the distinction from upper and lower case, for instance converting everything to lower case;\n",
    "* remove all characters that are not letters or spaces;\n",
    "* remove empty lines and redundant spaces (words must be separated by a **single** space)."
   ]
  },
  {
   "cell_type": "markdown",
   "metadata": {},
   "source": [
    "Remember that Python strings behave like containers. They are collections of single characters that you can iterate upon using `for` loops or list comprehensions.\n",
    "\n",
    "You may find the following two functions useful for converting strings into actual lists and vice-versa."
   ]
  },
  {
   "cell_type": "code",
   "execution_count": 3,
   "metadata": {},
   "outputs": [],
   "source": [
    "def string2list(s):\n",
    "    return list(s)"
   ]
  },
  {
   "cell_type": "code",
   "execution_count": 4,
   "metadata": {},
   "outputs": [],
   "source": [
    "def list2string(l):\n",
    "    return ''.join(l)  # join all characters together"
   ]
  },
  {
   "cell_type": "markdown",
   "metadata": {},
   "source": [
    "And the following two functions for converting strings into list of words and vice-versa."
   ]
  },
  {
   "cell_type": "code",
   "execution_count": 5,
   "metadata": {},
   "outputs": [],
   "source": [
    "def string2words(s):\n",
    "    return s.split(' ')  # split on spaces"
   ]
  },
  {
   "cell_type": "code",
   "execution_count": 6,
   "metadata": {},
   "outputs": [],
   "source": [
    "def words2string(ws):\n",
    "    return ' '.join(ws)  # join words with a spaces between each pair"
   ]
  },
  {
   "cell_type": "markdown",
   "metadata": {},
   "source": [
    "Now implement the transformations described above."
   ]
  },
  {
   "cell_type": "code",
   "execution_count": 7,
   "metadata": {},
   "outputs": [],
   "source": [
    "# 1. lower case the text\n",
    "# 2. replace newlines with spaces\n",
    "text = novel.lower().replace('\\n', ' ')\n",
    "\n",
    "# 3. strip out anything that isn't a letter or a space\n",
    "chars    = string2list(text)\n",
    "filtered = [c for c in chars if c.isalpha() or c == ' ']\n",
    "text     = list2string(filtered)\n",
    "\n",
    "# 4. split on spaces, drop empty tokens, then re-join with SINGLE spaces\n",
    "words        = string2words(text)\n",
    "nonempty     = [w for w in words if w]\n",
    "novel_clean  = words2string(nonempty)"
   ]
  },
  {
   "cell_type": "code",
   "execution_count": 8,
   "metadata": {},
   "outputs": [
    {
     "data": {
      "text/plain": [
       "13949"
      ]
     },
     "execution_count": 8,
     "metadata": {},
     "output_type": "execute_result"
    }
   ],
   "source": [
    "len(chars)"
   ]
  },
  {
   "cell_type": "code",
   "execution_count": 9,
   "metadata": {},
   "outputs": [
    {
     "data": {
      "text/plain": [
       "'mr sherlock holmes who was usually very late in the mornings save upon those not infrequent occasions when he was up all night was seated at the breakfast table i stood upon the hearthrug and picked up the stick which our visitor had left behind him the night before it was a fine thick piece of wood bulbousheaded of the sort which is known as a penang lawyer just under the head was a broad silver band nearly an inch across to james mortimer mrcs from his friends of the cch was engraved upon it with the date it was just such a stick as the oldfashioned family practitioner used to carrydignified solid and reassuring well watson what do you make of it holmes was sitting with his back to me and i had given him no sign of my occupation how did you know what i was doing i believe you have eyes in the back of your head i have at least a wellpolished silverplated coffeepot in front of me said he but tell me watson what do you make of our visitors stick since we have been so unfortunate as to miss him and have no notion of his errand this accidental souvenir becomes of importance let me hear you reconstruct the man by an examination of it i think said i following as far as i could the methods of my companion that dr mortimer is a successful elderly medical man wellesteemed since those who know him give him this mark of their appreciation good said holmes excellent i think also that the probability is in favour of his being a country practitioner who does a great deal of his visiting on foot why so because this stick though originally a very handsome one has been so knocked about that i can hardly imagine a town practitioner carrying it the thickiron ferrule is worn down so it is evident that he has done a great amount of walking with it perfectly sound said holmes and then again there is the friends of the cch i should guess that to be the something hunt the local hunt to whose members he has possibly given some surgical assistance and which has made him a small presentation in return really watson you excel yourself said holmes pushing back his chair and lighting a cigarette i am bound to say that in all the accounts which you have been so good as to give of my own small achievements you have habitually underrated your own abilities it may be that you are not yourself luminous but you are a conductor of light some people without possessing genius have a remarkable power of stimulating it i confess my dear fellow that i am very much in your debt he had never said as much before and i must admit that his words gave me keen pleasure for i had often been piqued by his indifference to my admiration and to the attempts which i had made to give publicity to his methods i was proud too to think that i had so far mastered his system as to apply it in a way which earned his approval he now took the stick from my hands and examined it for a few minutes with his naked eyes then with an expression of interest he laid down his cigarette and carrying the cane to the window he looked over it again with a convex lens interesting though elementary said he as he returned to his favourite corner of the settee there are certainly one or two indications upon the stick it gives us the basis for several deductions has anything escaped me i asked with some selfimportance i trust that there is nothing of consequence which i have overlooked i am afraid my dear watson that most of your conclusions were erroneous when i said that you stimulated me i meant to be frank that in noting your fallacies i was occasionally guided towards the truth not that you are entirely wrong in this instance the man is certainly a country practitioner and he walks a good deal then i was right to that extent but that was all no no my dear watson not allby no means all i would suggest for example that a presentation to a doctor is more likely to come from a hospital than from a hunt and that when the initials cc are placed before that hospital the words charing cross very naturally suggest themselves you may be right the probability lies in that direction and if we take this as a working hypothesis we have a fresh basis from which to start our construction of this unknown visitor well then supposing that cch does stand for charing cross hospital what further inferences may we draw do none suggest themselves you know my methods apply them i can only think of the obvious conclusion that the man has practised in town before going to the country i think that we might venture a little farther than this look at it in this light on what occasion would it be most probable that such a presentation would be made when would his friends unite to give him a pledge of their good will obviously at the moment when dr mortimer withdrew from the service of the hospital in order to start a practice for himself we know there has been a presentation we believe there has been a change from a town hospital to a country practice is it then stretching our inference too far to say that the presentation was on the occasion of the change it certainly seems probable now you will observe that he could not have been on the staff of the hospital since only a man wellestablished in a london practice could hold such a position and such a one would not drift into the country what was he then if he was in the hospital and yet not on the staff he could only have been a housesurgeon or a housephysicianlittle more than a senior student and he left five years agothe date is on the stick so your grave middleaged family practitioner vanishes into thin air my dear watson and there emerges a young fellow under thirty amiable unambitious absentminded and the possessor of a favourite dog which i should describe roughly as being larger than a terrier and smaller than a mastiff i laughed incredulously as sherlock holmes leaned back in his settee and blew little wavering rings of smoke up to the ceiling as to the latter part i have no means of checking you said i but at least it is not difficult to find out a few particulars about the mans age and professional career from my small medical shelf i took down the medical directory and turned up the name there were several mortimers but only one who could be our visitor i read his record aloud mortimer james mrcs grimpen dartmoor devon housesurgeon from to at charing cross hospital winner of the jackson prize for comparative pathology with essay entitled is disease a reversion corresponding member of the swedish pathological society author of some freaks of atavism lancet do we progress journal of psychology march medical officer for the parishes of grimpen thorsley and high barrow no mention of that local hunt watson said holmes with a mischievous smile but a country doctor as you very astutely observed i think that i am fairly justified in my inferences as to the adjectives i said if i remember right amiable unambitious and absentminded it is my experience that it is only an amiable man in this world who receives testimonials only an unambitious one who abandons a london career for the country and only an absentminded one who leaves his stick and not his visitingcard after waiting an hour in your room and the dog has been in the habit of carrying this stick behind his master being a heavy stick the dog has held it tightly by the middle and the marks of his teeth are very plainly visible the dogs jaw as shown in the space between these marks is too broad in my opinion for a terrier and not broad enough for a mastiff it may have beenyes by jove it is a curlyhaired spaniel he had risen and paced the room as he spoke now he halted in the recess of the window there was such a ring of conviction in his voice that i glanced up in surprise my dear fellow how can you possibly be so sure of that for the very simple reason that i see the dog himself on our very doorstep and there is the ring of its owner dont move i beg you watson he is a professional brother of yours and your presence may be of assistance to me now is the dramatic moment of fate watson when you hear a step upon the stair which is walking into your life and you know not whether for good or ill what does dr james mortimer the man of science ask of sherlock holmes the specialist in crime come in the appearance of our visitor was a surprise to me since i had expected a typical country practitioner he was a very tall thin man with a long nose like a beak which jutted out between two keen grey eyes set closely together and sparkling brightly from behind a pair of goldrimmed glasses he was clad in a professional but rather slovenly fashion for his frockcoat was dingy and his trousers frayed though young his long back was already bowed and he walked with a forward thrust of his head and a general air of peering benevolence as he entered his eyes fell upon the stick in holmess hand and he ran towards it with an exclamation of joy i am so very glad said he i was not sure whether i had left it here or in the shipping office i would not lose that stick for the world a presentation i see said holmes yes sir from charing cross hospital from one or two friends there on the occasion of my marriage dear dear thats bad said holmes shaking his head dr mortimer blinked through his glasses in mild astonishment why was it bad only that you have disarranged our little deductions your marriage you say yes sir i married and so left the hospital and with it all hopes of a consulting practice it was necessary to make a home of my own come come we are not so far wrong after all said holmes and now dr james mortimer mister sir mistera humble mrcs and a man of precise mind evidently a dabbler in science mr holmes a picker up of shells on the shores of the great unknown ocean i presume that it is mr sherlock holmes whom i am addressing and not no this is my friend dr watson glad to meet you sir i have heard your name mentioned in connection with that of your friend you interest me very much mr holmes i had hardly expected so dolichocephalic a skull or such wellmarked supraorbital development would you have any objection to my running my finger along your parietal fissure a cast of your skull sir until the original is available would be an ornament to any anthropological museum it is not my intention to be fulsome but i confess that i covet your skull sherlock holmes waved our strange visitor into a chair you are an enthusiast in your line of thought i perceive sir as i am in mine said he i observe from your forefinger that you make your own cigarettes have no hesitation in lighting one the man drew out paper and tobacco and twirled the one up in the other with surprising dexterity he had long quivering fingers as agile and restless as the antennæ of an insect holmes was silent but his little darting glances showed me the interest which he took in our curious companion i presume sir said he at last that it was not merely for the purpose of examining my skull that you have done me the honour to call here last night and again today no sir no though i am happy to have had the opportunity of doing that as well i came to you mr holmes because i recognized that i am myself an unpractical man and because i am suddenly confronted with a most serious and extraordinary problem recognizing as i do that you are the second highest expert in europe indeed sir may i inquire who has the honour to be the first asked holmes with some asperity to the man of precisely scientific mind the work of monsieur bertillon must always appeal strongly then had you not better consult him i said sir to the precisely scientific mind but as a practical man of affairs it is acknowledged that you stand alone i trust sir that i have not inadvertently just a little said holmes i think dr mortimer you would do wisely if without more ado you would kindly tell me plainly what the exact nature of the problem is in which you demand my assistance'"
      ]
     },
     "execution_count": 9,
     "metadata": {},
     "output_type": "execute_result"
    }
   ],
   "source": [
    "novel_clean"
   ]
  },
  {
   "cell_type": "code",
   "execution_count": 10,
   "metadata": {},
   "outputs": [
    {
     "data": {
      "text/plain": [
       "str"
      ]
     },
     "execution_count": 10,
     "metadata": {},
     "output_type": "execute_result"
    }
   ],
   "source": [
    "type(novel_clean)"
   ]
  },
  {
   "cell_type": "markdown",
   "metadata": {},
   "source": [
    "Now that we have cleaned up the text we will be using, there is one more conversion we have to make before we think abount the mathematical modeling.\n",
    "\n",
    "Each character in our string will be represented as a different _state_ of a Markov model. As states are usually labeled with integer numbers (1, 2 ...), we need a way to convert each letter into an integer.\n",
    "\n",
    "Start by defining a function which takes the list of all possible characters (which you have used above for the cleanup) and assign to each a different number (starting from 0). For instance, one possible pairing would be:\n",
    "\n",
    "```\n",
    "a -> 0\n",
    "b -> 1\n",
    "c -> 2\n",
    "...\n",
    "```"
   ]
  },
  {
   "cell_type": "code",
   "execution_count": 11,
   "metadata": {},
   "outputs": [],
   "source": [
    "def letters2int(ls):\n",
    "    \"\"\"\n",
    "    letters2int takes a list of characters and returns a dictionary\n",
    "    mapping each character to an integer. The integers are assigned\n",
    "    in the order that the characters appear in the list.\n",
    "    \"\"\"\n",
    "    return {char: idx for idx, char in enumerate(ls)}\n",
    "\n",
    "# # Example usage:\n",
    "# alphabet = list(\"abcdefghijklmnopqrstuvwxyz \")  # or whatever set of chars you cleaned to\n",
    "# mapping = letters2int(alphabet)\n",
    "# print(mapping)\n",
    "# # {'a': 0, 'b': 1, 'c': 2, ..., 'z': 25, ' ': 26}\n"
   ]
  },
  {
   "cell_type": "markdown",
   "metadata": {},
   "source": [
    "Now write a second function that:\n",
    "* converts the cleaned-up text into a list of characters;\n",
    "* replaces each character with the correct number.\n",
    "\n",
    "Using the mapping defined above, the string\n",
    "```\n",
    "acca\n",
    "```\n",
    "\n",
    "would become\n",
    "```python\n",
    "[0, 2, 2, 0]\n",
    "```"
   ]
  },
  {
   "cell_type": "code",
   "execution_count": 12,
   "metadata": {},
   "outputs": [],
   "source": [
    "def string2ints(s):\n",
    "    \"\"\"\n",
    "    string2ints takes a string and returns a list of integers\n",
    "    corresponding to the characters in the string. The mapping is\n",
    "    done using the letters2int function.\n",
    "    \"\"\"\n",
    "\n",
    "    alphabet = list(\"abcdefghijklmnopqrstuvwxyzàâäéèêëîïôöùûüçœ \")\n",
    "    mapping = letters2int(alphabet)\n",
    "    return [mapping[char] for char in s if char in mapping]\n",
    "# # Example usage:\n",
    "\n",
    "# int_list = string2ints(novel_clean)\n",
    "# print(int_list)"
   ]
  },
  {
   "cell_type": "markdown",
   "metadata": {},
   "source": [
    "## Markov Model, order 1"
   ]
  },
  {
   "cell_type": "markdown",
   "metadata": {},
   "source": [
    "Here we are interested in estimating an order 1 Markov model representing our text.\n",
    "\n",
    "In practice, we need to build a matrix capturing all the transition probabilities between pairs of characters.\n",
    "\n",
    "The actual workflow will be we following:\n",
    "* build a numpy matrix representing transitions between characters of the appropriate size;\n",
    "* the matrix should be initially filled with zeroes;\n",
    "* for each pair of characters (say 'a' and 'b') count how many times the pair 'ab' appears in the text and store it in the matrix;\n",
    "* transform the frequency matrix into a proability matrix.\n",
    "\n",
    "Implement in Python code the above steps. You may want to start doing one step at a time, interacting with the notebook. Later you should gather all the code into a single function like the following:\n",
    "\n",
    "```python\n",
    "def estimate_markov_1(s):  # s is the input text\n",
    "    # do stuff\n",
    "    return m  # m is the computed probability matrix\n",
    "```"
   ]
  },
  {
   "cell_type": "code",
   "execution_count": 13,
   "metadata": {},
   "outputs": [],
   "source": [
    "import numpy as np"
   ]
  },
  {
   "cell_type": "code",
   "execution_count": 14,
   "metadata": {},
   "outputs": [],
   "source": [
    "\n",
    "def estimate_markov_1(s):\n",
    "    \"\"\"\n",
    "    Estimate the 1st-order Markov transition matrix from string `s` (with Laplace smoothing).\n",
    "    Returns an n×n array m where m[i,j] = P(next=j | current=i).\n",
    "    \"\"\"\n",
    "    import numpy as np\n",
    "    alphabet = list(\"abcdefghijklmnopqrstuvwxyzàâäéèêëîïôöùûüçœ \")\n",
    "    char2int = letters2int(alphabet)\n",
    "    n = len(alphabet)\n",
    "\n",
    "    # Convert string to list of integer indices\n",
    "    idxs = string2ints(s)\n",
    "\n",
    "    # 1. Build frequency matrix\n",
    "    freq = np.zeros((n, n), dtype=float)\n",
    "    for prev, curr in zip(idxs, idxs[1:]):\n",
    "        freq[prev, curr] += 1\n",
    "\n",
    "    # 2. Laplace smoothing (add 1 everywhere)\n",
    "    freq += 0.001\n",
    "\n",
    "    # 3. Normalize each row to sum to 1\n",
    "    row_sums = freq.sum(axis=1, keepdims=True)\n",
    "    with np.errstate(divide='ignore', invalid='ignore'):\n",
    "        m = np.divide(freq, row_sums, where=row_sums != 0)\n",
    "        m[np.isnan(m)] = 0.0\n",
    "\n",
    "    return m\n"
   ]
  },
  {
   "cell_type": "code",
   "execution_count": 15,
   "metadata": {},
   "outputs": [],
   "source": [
    "mm1 = estimate_markov_1(novel_clean)"
   ]
  },
  {
   "cell_type": "markdown",
   "metadata": {},
   "source": [
    "# Visualization for better understanding of the concept"
   ]
  },
  {
   "cell_type": "code",
   "execution_count": 16,
   "metadata": {},
   "outputs": [],
   "source": [
    "# import matplotlib.pyplot as plt\n",
    "# #english_alphabet = list(\"abcdefghijklmnopqrstuvwxyz \")\n",
    "# alphabet = list(\"abcdefghijklmnopqrstuvwxyzàâäéèêëîïôöùûüçœ \")\n",
    "\n",
    "# fig, ax = plt.subplots(figsize=(8, 8))\n",
    "# # Show the matrix as an image (color = probability)\n",
    "# cax = ax.imshow(mm1, aspect='equal')\n",
    "\n",
    "# # Add a colorbar to tell you what the colors mean\n",
    "# fig.colorbar(cax, ax=ax, label='P(next|current)')\n",
    "\n",
    "# # Put character labels on each tick\n",
    "# ax.set_xticks(range(len(alphabet)))\n",
    "# ax.set_xticklabels(alphabet, rotation=90)\n",
    "# ax.set_yticks(range(len(alphabet)))\n",
    "# ax.set_yticklabels(alphabet)\n",
    "\n",
    "# ax.set_xlabel('Next character')\n",
    "# ax.set_ylabel('Current character')\n",
    "# plt.tight_layout()\n",
    "# plt.show()\n"
   ]
  },
  {
   "cell_type": "markdown",
   "metadata": {},
   "source": [
    "## Data Probability given a Model"
   ]
  },
  {
   "cell_type": "markdown",
   "metadata": {},
   "source": [
    "We have now build a model for our text. Unfortunately, it is quite difficult to check whether our computation is correct staring at the model matrix. Since we are nonetheless interested in verifying the correctness of our algorithm, we will adopt a different strategy.\n",
    "\n",
    "We have estimated our model from a specific piece of text. In statistical terms, we have computed:\n",
    "\n",
    "$$ P(\\theta | D ) $$\n",
    "\n",
    "where $\\theta$ represents the parameters of the model and $D$ the input data.\n",
    "\n",
    "In this particular case it is quite easy to compute the inverse, that is:\n",
    "\n",
    "$$ L(D | \\theta) $$\n",
    "\n",
    "the likelihood of a piece of text under the assumption that it was generated by the Markov model.\n",
    "\n",
    "In computational terms we need to:\n",
    "* scan the original text;\n",
    "* for each pair of characters look up the corresponding probability in the model;\n",
    "* since we assume each pair is an independent event, we can obtain the total probability for the text by multiplying all the intermediate values.\n",
    "\n",
    "The last step is possible due to the well known probability relation for **independent** events:\n",
    "\n",
    "$$ P(A,B) = P(A) P(B) $$"
   ]
  },
  {
   "cell_type": "markdown",
   "metadata": {},
   "source": [
    "There is one last detail we should take care of. The probabilities in our model are going to be quite small. Say $P(A)=0.02$ and $P(B)=0.03$. When we multiply them together, the result is even smaller: $P(A,B) = 0.0006$.\n",
    "\n",
    "In the long run, this is going to cause numerical problems. The computer is only precise to a certain level; if we get very small values they became essentially indistinguishable from zero.\n",
    "\n",
    "Luckily, we can use a trick to sidestep this issue: take the logarithm of the probability. By the property of the logarithm, products turn into sums:\n",
    "\n",
    "$$ \\log(\\prod_i p_i) = \\sum_i \\log(p_i) $$\n",
    "\n",
    "Instead of computing the likelihood directly, we will therefore compute the log-likelihood."
   ]
  },
  {
   "cell_type": "markdown",
   "metadata": {},
   "source": [
    "OK, we are now ready to write some code. Implement a function doing the following:\n",
    "* iterate over all successive pairs in a text;\n",
    "* look up the corresponding probability in the model;\n",
    "* take its logarithm;\n",
    "* return the sum of all logarithms."
   ]
  },
  {
   "cell_type": "markdown",
   "metadata": {},
   "source": [
    "<div class=\"alert alert-warning\">\n",
    "What happens if you have a transition probability of zero? What is its logarithm?\n",
    "Can you figure a meaningful way to solve this issue?\n",
    "</div>"
   ]
  },
  {
   "cell_type": "markdown",
   "metadata": {},
   "source": [
    "**Answer**\n",
    "Laplace Smoothing in estimate_markov_1 function"
   ]
  },
  {
   "cell_type": "code",
   "execution_count": 17,
   "metadata": {},
   "outputs": [],
   "source": [
    "import math\n",
    "\n",
    "def loglik(ints, m):\n",
    "    \"\"\"\n",
    "    Compute the log-likelihood of a sequence of state indices under\n",
    "    a 1st-order Markov model.\n",
    "\n",
    "    Parameters\n",
    "    ----------\n",
    "    ints : list of int\n",
    "    m : 2D array-like\n",
    "    \n",
    "    Returns\n",
    "    -------\n",
    "    float\n",
    "        The sum of the log-probabilities of each adjacent transition,\n",
    "        or -inf if any transition has zero probability.\n",
    "    \"\"\"\n",
    "    log_sum = 0.0\n",
    "    for i in range(len(ints) - 1):\n",
    "        prev = ints[i]\n",
    "        curr = ints[i + 1]\n",
    "        prob = m[prev][curr]\n",
    "        if prob == 0.0:\n",
    "            return float('-inf')\n",
    "        log_sum += math.log(prob)\n",
    "    return log_sum"
   ]
  },
  {
   "cell_type": "code",
   "execution_count": 18,
   "metadata": {},
   "outputs": [
    {
     "data": {
      "text/plain": [
       "-27178.4114647582"
      ]
     },
     "execution_count": 18,
     "metadata": {},
     "output_type": "execute_result"
    }
   ],
   "source": [
    "loglik(string2ints(novel_clean), mm1)"
   ]
  },
  {
   "cell_type": "markdown",
   "metadata": {},
   "source": [
    "The value of the log-likelihood is again not particularly informative on its own. We need to compute the log-likelihood on a different text to establish a baseline for comparison.\n",
    "\n",
    "Let's build a random sequence of characters of the same length of the novel fragment we have used. To this end we will use a function of the `numpy` package."
   ]
  },
  {
   "cell_type": "code",
   "execution_count": 19,
   "metadata": {},
   "outputs": [
    {
     "name": "stdout",
     "output_type": "stream",
     "text": [
      "[38 28 14 ...  3 26 17] … length = 11897\n"
     ]
    }
   ],
   "source": [
    "import numpy as np\n",
    "\n",
    "# 1) Mapping and encoded novel:\n",
    "char2int = letters2int(list(\"abcdefghijklmnopqrstuvwxyzàâäéèêëîïôöùûüçœ \"))\n",
    "novel_ints = string2ints(novel_clean)\n",
    "\n",
    "vocab_size    = len(char2int)            # number of possible states\n",
    "sequence_len  = len(novel_ints)          # same length as your real text\n",
    "\n",
    "# For reproducibility:\n",
    "np.random.seed(42)\n",
    "\n",
    "# 2) Draw uniformly at random from {0, …, vocab_size-1}\n",
    "novel_random = np.random.randint(\n",
    "    0,               # low (inclusive)\n",
    "    vocab_size,      # high (exclusive)\n",
    "    size=sequence_len\n",
    ")\n",
    "\n",
    "print(novel_random[:5000], '…', 'length =', len(novel_random))"
   ]
  },
  {
   "cell_type": "markdown",
   "metadata": {},
   "source": [
    "Now compute the log-likelihood on this new text (you can reuse the function!) and compare it with the previous result.\n",
    "\n",
    "The Markov model we have generated \"explains\" better the first (novel) text or the second (random) one?"
   ]
  },
  {
   "cell_type": "code",
   "execution_count": 20,
   "metadata": {},
   "outputs": [
    {
     "name": "stdout",
     "output_type": "stream",
     "text": [
      "Novel       log-likelihood: -27178.4114647582\n",
      "Random      log-likelihood: -86641.09897956312\n"
     ]
    }
   ],
   "source": [
    "# your real‐world score\n",
    "ll_novel = loglik(novel_ints, mm1)\n",
    "\n",
    "# the random‐text score\n",
    "ll_random = loglik(novel_random, mm1)\n",
    "\n",
    "print(\"Novel       log-likelihood:\", ll_novel)\n",
    "print(\"Random      log-likelihood:\", ll_random)\n"
   ]
  },
  {
   "cell_type": "code",
   "execution_count": 21,
   "metadata": {},
   "outputs": [
    {
     "data": {
      "text/plain": [
       "-86641.09897956312"
      ]
     },
     "execution_count": 21,
     "metadata": {},
     "output_type": "execute_result"
    }
   ],
   "source": [
    "loglik(novel_random, mm1)"
   ]
  },
  {
   "cell_type": "markdown",
   "metadata": {},
   "source": [
    "## Language Detection"
   ]
  },
  {
   "cell_type": "markdown",
   "metadata": {},
   "source": [
    "In the last section we learned how to measure the likelihood that a given piece of text derives from a given Markov model. We can now put this knowledge to some practical use by implementing a language classificator.\n",
    "\n",
    "The idea is to build a software that can automatically detect the language (such as Italian or English) of a string provided by the user.\n",
    "\n",
    "To do that, we first need to train the software with some samples of each language. For English, we already have our novel."
   ]
  },
  {
   "cell_type": "code",
   "execution_count": 22,
   "metadata": {},
   "outputs": [],
   "source": [
    "english_sample = novel_clean"
   ]
  },
  {
   "cell_type": "markdown",
   "metadata": {},
   "source": [
    "Now go to the Project Gutenberg website and get a sample of French and Italian. Define two more variables, `french_sample` and `italian_sample`, cleaning each text sample in the same way you've done with the english text."
   ]
  },
  {
   "cell_type": "code",
   "execution_count": 23,
   "metadata": {},
   "outputs": [],
   "source": [
    "french_sample= \"\"\"\n",
    "Charles Baudelaire avait un ami, Auguste Poulet-Malassis, ancien élève\n",
    "de l'école des Chartes, qui s'était fait éditeur par goût pour les\n",
    "raffinements typographiques et pour la littérature qu'il jugeait en\n",
    "érudit et en artiste beaucoup plus qu'en commerçant; aussi bien ne fit-\n",
    "il jamais fortune, mais ses livres devenus assez rares sont depuis\n",
    "longtemps très recherchés des bibliophiles.\n",
    "\n",
    "Les poésies de Baudelaire disséminées un peu partout dans les petits\n",
    "journaux d'avant-garde comme le _Corsaire_ et jusque dans la grave\n",
    "_Revue des Deux-Mondes,_ n'avaient point encore, en 1857, été\n",
    "réunies en volume. Poulet-Malassis, que le génie original de Baudelaire\n",
    "enthousiasmait, s'offrit de les publier sous le titre de _Fleurs du\n",
    "Mal,_ titre neuf, audacieux, longtemps cherché et trouvé enfin non\n",
    "point par Baudelaire ni par l'éditeur, mais par Hippolyte Babou.\n",
    "\n",
    "Les _Fleurs du Mal_ se présentaient comme un bouquet poétique\n",
    "composé de fleurs rares et vénéneuses d'un parfum encore ignoré. Ce fut\n",
    "un succès--succès d'ailleurs préparé par la _Revue des Deux-\n",
    "Mondes_ qui, en accueillant un an auparavant quelques poésies de\n",
    "Baudelaire, avait mis sa responsabilité à couvert par une note\n",
    "singulièrement prudente. De nos jours une pareille note ressemblerait\n",
    "fort à une réclame déguisée:\n",
    "\n",
    "« Ce qui nous paraît ici mériter l'intérêt, disait-elle, c'est\n",
    "l'expression vive, curieuse, même dans sa violence, de quelques\n",
    "défaillances, de quelques douleurs morales, que, sans les partager ni\n",
    "les discuter, on doit tenir à connaître comme un des signes de notre\n",
    "temps. Il nous semble, d'ailleurs, qu'il est des cas où la publicité\n",
    "n'est pas seulement un encouragement, où elle peut avoir l'influence\n",
    "d'un conseil utile et appeler le vrai talent à se dégager, à se\n",
    "fortifier, en élargissant ses voies, en étendant son horizon. »\n",
    "\n",
    "C'était se méprendre étrangement que de compter sur la publicité pour\n",
    "amener Baudelaire à résipiscence; le parquet impérial ne prit pas tant\n",
    "de ménagements. Le livre à peine paru, fut déféré aux tribunaux. Tandis\n",
    "que Baudelaire se hâtait de recueillir en brochure les articles\n",
    "justificatifs d'Edmond Thierry, Barbey d'Aurevilly, Charles Asselineau,\n",
    "etc..., il sollicitait l'amitié de Sainte-Beuve et de Flaubert (tout\n",
    "récemment poursuivi pour avoir écrit _Madame Bovary_), des moyens\n",
    "de défense dont les minutes ont été conservées et dont il transmettait\n",
    "la teneur à son avocat, Me Chaix d'Est-Ange. Sur le réquisitoire de M.\n",
    "Pinard (alors avocat général et plus tard ministre de l'Intérieur), le\n",
    "délit d'offense à la morale religieuse fut écarté, mais en raison de la\n",
    "prévention d'outrage à la morale publiques et aux bonnes moeurs, la\n",
    "Cour prononça la suppression de six pièces: _Lesbos, Femmes damnées,\n",
    "le Lethé, A celle qui est trop gaie, les Bijoux et les Métamorphoses du\n",
    "Vampire,_ et la condamnation à une amende de l'auteur et de\n",
    "l'éditeur (21 août 1857).\n",
    "\n",
    "Le dommage matériel ne fut pas considérable pour Malassis; l'édition\n",
    "était presque épuisée lors de la saisie.\n",
    "\n",
    "Tout d'abord, Baudelaire voulut protester. On a retrouvé dans ses\n",
    "papiers le brouillon de divers projets de préfaces qu'il abandonna lors\n",
    "de la réimpression à la fois diminuée et augmentée des _Fleurs du\n",
    "Mal_ en 1861. Cette mutilation de sa pensée par autorité de justice\n",
    "avait eu pour résultat de rendre les directeurs de journaux et de\n",
    "revues très méfiants à son égard, lorsqu'il leur présentait quelques\n",
    "pages de prose ou des poésies nouvelles; sa situation pécuniaire s'en\n",
    "ressentit. Il travaillait lentement, à ses heures, toujours préoccupé\n",
    "d'atteindre l'idéale perfection et ne traitant d'ailleurs que des\n",
    "sujets auxquels le grand public était alors (encore plus\n",
    "qu'aujourd'hui) complètement étranger.\n",
    "\n",
    "Lorsque Baudelaire posa en 1862 sa candidature aux fauteuils\n",
    "académiques laissés vacants par la mort de Scribe et du Père\n",
    "Lacordaire, il était, dans sa pensée, de protester ainsi contre la\n",
    "condamnation des _Fleurs du Mal._ L'insuccès de Baudelaire à\n",
    "l'Académie n'était pas douteux. Ses amis, ses vrais amis, Alfred de\n",
    "Vigny et Sainte-Beuve, lui conseillèrent de se désister, ce qu'il fit\n",
    "d'ailleurs en des termes dont on apprécia la modestie et la convenance. \n",
    "Baudelaire, profondément meurtri par les attaques incessantes dont il fut l'objet, trouva néanmoins dans l'adversité une source renouvelée d'inspiration. Ses écrits critiques, notamment ceux sur Edgar Allan Poe, reflètent une admiration sans bornes pour ce qu'il appelait « l'esprit de l'analyse poussée jusqu'à l'extrême ». Cette fascination se traduit par une série d'études où Baudelaire esquisse une théorie du génie littéraire, mêlant intuition, mélancolie et lucidité impitoyable.\n",
    "\n",
    "Au fil des années, le poète affermit ses relations avec d'autres figures de la bohème littéraire, notamment Théophile Gautier, qu'il considérait comme un modèle d'élégance et de rigueur stylistique. Toutefois, ses rapports avec ses contemporains demeurèrent souvent empreints d'une tension latente, reflet de son orgueil blessé et de son exigence esthétique sans compromis.\n",
    "\n",
    "Vers 1864, accablé par des soucis financiers croissants et par une santé déclinante, Baudelaire entreprit un voyage en Belgique, espérant y trouver une reconnaissance qu'il croyait désormais refusée en France. Ce fut un échec amer : les conférences prévues n'attirèrent guère de public, et l'accueil réservé à ses poésies fut froid, voire hostile. De cette expérience naîtra cependant l'ouvrage posthume _Pauvre Belgique_, recueil acerbe de notes où le poète dresse un portrait sans pitié d'un pays qu'il juge médiocre et étriqué.\n",
    "\n",
    "Pendant ce séjour, ses forces déclinent rapidement. Victime d'une attaque cérébrale en 1866, Baudelaire est frappé d'aphasie, perdant en grande partie l'usage de la parole. Transporté à Paris, il finit ses jours dans une maison de soins, entouré de quelques fidèles amis, parmi lesquels Charles Asselineau, son premier biographe.\n",
    "\n",
    "La mort de Baudelaire, survenue le 31 août 1867, fut saluée avec une discrétion mêlée de respect par le monde littéraire. Si de son vivant il avait suscité scandales et controverses, la postérité lui accorda rapidement une place de choix parmi les rénovateurs de la poésie moderne. Verlaine, Mallarmé, et tant d'autres trouvèrent dans _Les Fleurs du Mal_ la source d'une inspiration nouvelle, un souffle noir et somptueux à la fois.\n",
    "\n",
    "Aujourd'hui encore, la figure de Charles Baudelaire demeure entourée d'une aura singulière : celle de l'artiste maudit, du visionnaire lucide qui sut exprimer les angoisses existentielles d'un siècle en mutation. Son influence dépasse largement le cadre de la littérature française ; elle irrigue la poésie mondiale, la philosophie, et même certaines formes d'art contemporain.\n",
    "\n",
    "On ne saurait comprendre Baudelaire sans évoquer son goût immodéré pour la beauté sous toutes ses formes, ni sans rappeler la constante oscillation entre l'idéal et le spleen qui caractérise son œuvre entière. Ce tiraillement intérieur, loin de l'amoindrir, confère à sa poésie une intensité rare, une profondeur vertigineuse où chaque lecteur, d'hier comme d'aujourd'hui, peut retrouver un écho de ses propres tourments.\n",
    "\n",
    "Le temps n'a nullement altéré la fraîcheur ni l'âpreté des _Fleurs du Mal_. Chaque génération y découvre de nouvelles résonances, tantôt dans la sensualité trouble des vers, tantôt dans la mélancolie souveraine des paysages intérieurs qu'ils évoquent. Le jugement porté par ses contemporains s'est mué en reconnaissance unanime : Baudelaire est, avec Victor Hugo, l'un des piliers incontestés du panthéon poétique français.\n",
    "Il est le poète de la modernité, celui qui a su capter l'essence même de son temps\n",
    "\"\"\""
   ]
  },
  {
   "cell_type": "code",
   "execution_count": 24,
   "metadata": {},
   "outputs": [],
   "source": [
    "import unicodedata\n",
    "import re\n",
    "def clean_sample(s):\n",
    "    \"\"\"\n",
    "    Clean input text:\n",
    "    - Lowercase\n",
    "    - Remove accents\n",
    "    - Remove non-alphabetic characters (except spaces)\n",
    "    - Normalize spaces\n",
    "    \"\"\"\n",
    "    s = s.lower()\n",
    "    # Normalize accents\n",
    "    s = unicodedata.normalize('NFD', s)\n",
    "    s = ''.join(c for c in s if unicodedata.category(c) != 'Mn')  # Remove accents\n",
    "    # Keep only a-z and space\n",
    "    s = re.sub(r'[^a-zàâäéèêëîïôöùûüçœ ]', '', s)\n",
    "    # Normalize multiple spaces to one\n",
    "    s = re.sub(r'\\s+', ' ', s).strip()\n",
    "    return s\n"
   ]
  },
  {
   "cell_type": "code",
   "execution_count": 25,
   "metadata": {},
   "outputs": [],
   "source": [
    "french_sample = clean_sample(french_sample)"
   ]
  },
  {
   "cell_type": "code",
   "execution_count": 26,
   "metadata": {},
   "outputs": [
    {
     "data": {
      "text/plain": [
       "'charles baudelaire avait un ami auguste pouletmalassis ancien elevede lecole des chartes qui setait fait editeur par gout pour lesraffinements typographiques et pour la litterature quil jugeait enerudit et en artiste beaucoup plus quen commercant aussi bien ne fitil jamais fortune mais ses livres devenus assez rares sont depuislongtemps tres recherches des bibliophilesles poesies de baudelaire disseminees un peu partout dans les petitsjournaux davantgarde comme le corsaire et jusque dans la graverevue des deuxmondes navaient point encore en etereunies en volume pouletmalassis que le genie original de baudelaireenthousiasmait soffrit de les publier sous le titre de fleurs dumal titre neuf audacieux longtemps cherche et trouve enfin nonpoint par baudelaire ni par lediteur mais par hippolyte baboules fleurs du mal se presentaient comme un bouquet poetiquecompose de fleurs rares et veneneuses dun parfum encore ignore ce futun successucces dailleurs prepare par la revue des deuxmondes qui en accueillant un an auparavant quelques poesies debaudelaire avait mis sa responsabilite a couvert par une notesingulierement prudente de nos jours une pareille note ressembleraitfort a une reclame deguisee ce qui nous parait ici meriter linteret disaitelle cestlexpression vive curieuse meme dans sa violence de quelquesdefaillances de quelques douleurs morales que sans les partager niles discuter on doit tenir a connaitre comme un des signes de notretemps il nous semble dailleurs quil est des cas ou la publicitenest pas seulement un encouragement ou elle peut avoir linfluencedun conseil utile et appeler le vrai talent a se degager a sefortifier en elargissant ses voies en etendant son horizon cetait se meprendre etrangement que de compter sur la publicite pouramener baudelaire a resipiscence le parquet imperial ne prit pas tantde menagements le livre a peine paru fut defere aux tribunaux tandisque baudelaire se hatait de recueillir en brochure les articlesjustificatifs dedmond thierry barbey daurevilly charles asselineauetc il sollicitait lamitie de saintebeuve et de flaubert toutrecemment poursuivi pour avoir ecrit madame bovary des moyensde defense dont les minutes ont ete conservees et dont il transmettaitla teneur a son avocat me chaix destange sur le requisitoire de mpinard alors avocat general et plus tard ministre de linterieur ledelit doffense a la morale religieuse fut ecarte mais en raison de laprevention doutrage a la morale publiques et aux bonnes moeurs lacour prononca la suppression de six pieces lesbos femmes damneesle lethe a celle qui est trop gaie les bijoux et les metamorphoses duvampire et la condamnation a une amende de lauteur et delediteur aout le dommage materiel ne fut pas considerable pour malassis leditionetait presque epuisee lors de la saisietout dabord baudelaire voulut protester on a retrouve dans sespapiers le brouillon de divers projets de prefaces quil abandonna lorsde la reimpression a la fois diminuee et augmentee des fleurs dumal en cette mutilation de sa pensee par autorite de justiceavait eu pour resultat de rendre les directeurs de journaux et derevues tres mefiants a son egard lorsquil leur presentait quelquespages de prose ou des poesies nouvelles sa situation pecuniaire senressentit il travaillait lentement a ses heures toujours preoccupedatteindre lideale perfection et ne traitant dailleurs que dessujets auxquels le grand public etait alors encore plusquaujourdhui completement etrangerlorsque baudelaire posa en sa candidature aux fauteuilsacademiques laisses vacants par la mort de scribe et du perelacordaire il etait dans sa pensee de protester ainsi contre lacondamnation des fleurs du mal linsucces de baudelaire alacademie netait pas douteux ses amis ses vrais amis alfred devigny et saintebeuve lui conseillerent de se desister ce quil fitdailleurs en des termes dont on apprecia la modestie et la convenance baudelaire profondement meurtri par les attaques incessantes dont il fut lobjet trouva neanmoins dans ladversite une source renouvelee dinspiration ses ecrits critiques notamment ceux sur edgar allan poe refletent une admiration sans bornes pour ce quil appelait lesprit de lanalyse poussee jusqua lextreme cette fascination se traduit par une serie detudes ou baudelaire esquisse une theorie du genie litteraire melant intuition melancolie et lucidite impitoyableau fil des annees le poete affermit ses relations avec dautres figures de la boheme litteraire notamment theophile gautier quil considerait comme un modele delegance et de rigueur stylistique toutefois ses rapports avec ses contemporains demeurerent souvent empreints dune tension latente reflet de son orgueil blesse et de son exigence esthetique sans compromisvers accable par des soucis financiers croissants et par une sante declinante baudelaire entreprit un voyage en belgique esperant y trouver une reconnaissance quil croyait desormais refusee en france ce fut un echec amer les conferences prevues nattirerent guere de public et laccueil reserve a ses poesies fut froid voire hostile de cette experience naitra cependant louvrage posthume pauvre belgique recueil acerbe de notes ou le poete dresse un portrait sans pitie dun pays quil juge mediocre et etriquependant ce sejour ses forces declinent rapidement victime dune attaque cerebrale en baudelaire est frappe daphasie perdant en grande partie lusage de la parole transporte a paris il finit ses jours dans une maison de soins entoure de quelques fideles amis parmi lesquels charles asselineau son premier biographela mort de baudelaire survenue le aout fut saluee avec une discretion melee de respect par le monde litteraire si de son vivant il avait suscite scandales et controverses la posterite lui accorda rapidement une place de choix parmi les renovateurs de la poesie moderne verlaine mallarme et tant dautres trouverent dans les fleurs du mal la source dune inspiration nouvelle un souffle noir et somptueux a la foisaujourdhui encore la figure de charles baudelaire demeure entouree dune aura singuliere celle de lartiste maudit du visionnaire lucide qui sut exprimer les angoisses existentielles dun siecle en mutation son influence depasse largement le cadre de la litterature francaise elle irrigue la poesie mondiale la philosophie et meme certaines formes dart contemporainon ne saurait comprendre baudelaire sans evoquer son gout immodere pour la beaute sous toutes ses formes ni sans rappeler la constante oscillation entre lideal et le spleen qui caracterise son œuvre entiere ce tiraillement interieur loin de lamoindrir confere a sa poesie une intensite rare une profondeur vertigineuse ou chaque lecteur dhier comme daujourdhui peut retrouver un echo de ses propres tourmentsle temps na nullement altere la fraicheur ni laprete des fleurs du mal chaque generation y decouvre de nouvelles resonances tantot dans la sensualite trouble des vers tantot dans la melancolie souveraine des paysages interieurs quils evoquent le jugement porte par ses contemporains sest mue en reconnaissance unanime baudelaire est avec victor hugo lun des piliers incontestes du pantheon poetique francaisil est le poete de la modernite celui qui a su capter lessence meme de son temps'"
      ]
     },
     "execution_count": 26,
     "metadata": {},
     "output_type": "execute_result"
    }
   ],
   "source": [
    "french_sample"
   ]
  },
  {
   "cell_type": "code",
   "execution_count": 27,
   "metadata": {},
   "outputs": [],
   "source": [
    "italian_sample= \"\"\"\n",
    "(Parentesi. Mi ricordo che ci chiusero nell’_Aula Magna_\n",
    "dell’Università. Eravamo otto o dieci candidati, di quelli allegri\n",
    "come non se ne trovano più. Venne il professore di Diritto Canonico,\n",
    "munito di una borsa gigantesca che conteneva la bellezza di sessanta\n",
    "palle. Ognuno di noi immerse la mano nel venerando borsone ed estrasse\n",
    "una palla sola, il cui numero corrispondeva a quello di una tesi da\n",
    "svolgere in iscritto. Mi toccò una tesi laconica: _Del Comune_; una\n",
    "tesi che non conoscevo nemmeno di saluto. Il professore se ne andò e\n",
    "noi ordinammo la colazione. Ci parve che il vino, che era buono dovesse\n",
    "rischiararci le idee, e ne bevemmo... si sa... ne bevemmo... con\n",
    "molto piacere. Mi ricordo anche, un po’ confusamente, di aver ballato\n",
    "con molta energia, insieme ai colleghi, intorno ad un mappamondo in\n",
    "mezzo all’aula, e di aver riscossi unanimi applausi per l’esecuzione\n",
    "brillante dell’esercizio ginnastico detto l’albero forcuto. Sul tardi\n",
    "ci decidemmo a lavorare, ed io comunicai i miei bollenti spiriti\n",
    "all’opera della mia sapienza giuridica. Cominciai coprendo di vituperii\n",
    "il cranio di Clemente VII perchè distrusse la repubblica fiorentina,\n",
    "e finii rimproverando il ministro Menabrea perchè dopo Mentana non\n",
    "era andato a Roma. Domando io che cosa c’entrava questa roba in una\n",
    "tesi di diritto amministrativo? E tra il principio e la fine ci\n",
    "era una tempesta di punti ammirativi, di apostrofi, di sarcasmi,\n",
    "d’esclamazioni; c’erano dentro tutte le più calde figure rettoriche\n",
    "possibili. Era insomma una tesi un poco brilla. Cinque o sei giorni\n",
    "dopo, la mattina a digiuno, coll’abito a coda di rondine e la cravatta\n",
    "bianca, dovetti recarmi all’Università per leggere e sostenere\n",
    "pubblicamente la mia tesi davanti alla Facoltà ed agli ascoltatori.\n",
    "Lessi, ma in parola d’onore, avrei preferito di non leggere. Mi\n",
    "vergognavo. Tutto quel lirismo bacchico recitato a bassa voce da un\n",
    "giovine a digiuno, in soggezione e colla voce spaurita, doveva fare un\n",
    "bell’effetto. Alle interrogazioni dei professori, m’impaperai, dissi\n",
    "degli spropositi cavallini, feci una figura scellerata, e forse mossa\n",
    "da un delicato senso di compassione la Facoltà mi approvò a pieni voti.\n",
    "Vorrei esprimere la mia gratitudine ai benefattori, ma credo che sia\n",
    "tempo di chiudere la parentesi).\n",
    "\n",
    "Dunque, nell’inverno del 1868, invece di leggere il codice leggevo dei\n",
    "versi. Ma leggevo per lo più dei versi francesi, non trovando niente\n",
    "in italiano che finisse di piacermi. Giudicavo tutti i nostri poeti\n",
    "recentissimi colla avventatezza dello studente che procede per simpatie\n",
    "ed antipatie e tutta la nostra lirica contemporanea mi pareva vuota,\n",
    "affettata, frigida. L’eterno Iddio Manzoni era l’oggetto del mio odio\n",
    "accanito; e tutto quel cristianesimo nè carne nè pesce degli scrittori\n",
    "che adorano san Pietro e dicono male del suo successore, mi dava delle\n",
    "ore di bile felice. Il mio vangelo filosofico era la _Filosofia della\n",
    "rivoluzione_ del povero e grande Ferrari; e in questo forse ho cambiato\n",
    "poco. Potete dunque immaginare il gusto che mi dettero poi le lodi\n",
    "prodigate all’abate Zanella! Badate bene! Se l’amor di Dio messo in\n",
    "versi mi fa sempre presso a poco lo stesso effetto, non giudico più\n",
    "così sfacciatamente in cose d’arte. Voglio solo dire che allora l’odio\n",
    "al romanticismo cristiano e cattolico mi accecava e mi faceva giudicare\n",
    "colla ferocia di un antropofago.\n",
    " Nel mezzo del cammin di nostra vita\n",
    "  mi ritrovai per una selva oscura,\n",
    "  ché la diritta via era smarrita.\n",
    "\n",
    "  Ahi quanto a dir qual era è cosa dura\n",
    "  esta selva selvaggia e aspra e forte\n",
    "  che nel pensier rinova la paura!\n",
    "\n",
    "  Tant’ è amara che poco è più morte;\n",
    "  ma per trattar del ben ch’i’ vi trovai,\n",
    "  dirò de l’altre cose ch’i’ v’ho scorte.\n",
    "\n",
    "  Io non so ben ridir com’ i’ v’intrai,\n",
    "  tant’ era pien di sonno a quel punto\n",
    "  che la verace via abbandonai.\n",
    "\n",
    "  Ma poi ch’i’ fui al piè d’un colle giunto,\n",
    "  là dove terminava quella valle\n",
    "  che m’avea di paura il cor compunto,\n",
    "\n",
    "  guardai in alto e vidi le sue spalle\n",
    "  vestite già de’ raggi del pianeta\n",
    "  che mena dritto altrui per ogne calle.\n",
    "\n",
    "  Allor fu la paura un poco queta,\n",
    "  che nel lago del cor m’era durata\n",
    "  la notte ch’i’ passai con tanta pieta.\n",
    "\n",
    "  E come quei che con lena affannata,\n",
    "  uscito fuor del pelago a la riva,\n",
    "  si volge a l’acqua perigliosa e guata,\n",
    "\n",
    "  così l’animo mio, ch’ancor fuggiva,\n",
    "  si volse a retro a rimirar lo passo\n",
    "  che non lasciò già mai persona viva.\n",
    "\n",
    "  Poi ch’èi posato un poco il corpo lasso,\n",
    "  ripresi via per la piaggia diserta,\n",
    "  sì che ’l piè fermo sempre era ’l più basso.\n",
    "\n",
    "  Ed ecco, quasi al cominciar de l’erta,\n",
    "  una lonza leggera e presta molto,\n",
    "  che di pel macolato era coverta;\n",
    "\n",
    "  e non mi si partia dinanzi al volto,\n",
    "  anzi ’mpediva tanto il mio cammino,\n",
    "  ch’i’ fui per ritornar più volte vòlto.\n",
    "\n",
    "  Temp’ era dal principio del mattino,\n",
    "  e ’l sol montava ’n sù con quelle stelle\n",
    "  ch’eran con lui quando l’amor divino\n",
    "\n",
    "  mosse di prima quelle cose belle;\n",
    "  sì ch’a bene sperar m’era cagione\n",
    "  di quella fiera a la gaetta pelle\n",
    "\n",
    "  l’ora del tempo e la dolce stagione;\n",
    "  ma non sì che paura non mi desse\n",
    "  la vista che m’apparve d’un leone.\n",
    "\n",
    "  Questi parea che contra me venisse\n",
    "  con la test’ alta e con rabbiosa fame,\n",
    "  sì che parea che l’aere ne tremesse.\n",
    "\n",
    "  Ed una lupa, che di tutte brame\n",
    "  sembiava carca ne la sua magrezza,\n",
    "  e molte genti fé già viver grame,\n",
    "\n",
    "  questa mi porse tanto di gravezza\n",
    "  con la paura ch’uscia di sua vista,\n",
    "  ch’io perdei la speranza de l’altezza.\n",
    "\n",
    "  E qual è quei che volontieri acquista,\n",
    "  e giugne ’l tempo che perder lo face,\n",
    "  che ’n tutti suoi pensier piange e s’attrista;\n",
    "\n",
    "  tal mi fece la bestia sanza pace,\n",
    "  che, venendomi ’ncontro, a poco a poco\n",
    "  mi ripigneva là dove ’l sol tace.\n",
    "\n",
    "  Mentre ch’i’ rovinava in basso loco,\n",
    "  dinanzi a li occhi mi si fu offerto\n",
    "  chi per lungo silenzio parea fioco.\n",
    "\n",
    "  Quando vidi costui nel gran diserto,\n",
    "  «Miserere di me», gridai a lui,\n",
    "  «qual che tu sii, od ombra od omo certo!».\n",
    "\n",
    "  Rispuosemi: «Non omo, omo già fui,\n",
    "  e li parenti miei furon lombardi,\n",
    "  mantoani per patrïa ambedui.\n",
    "\n",
    "  Nacqui sub Iulio, ancor che fosse tardi,\n",
    "  e vissi a Roma sotto ’l buono Augusto\n",
    "  nel tempo de li dèi falsi e bugiardi.\n",
    "\n",
    "  Poeta fui, e cantai di quel giusto\n",
    "  figliuol d’Anchise che venne di Troia,\n",
    "  poi che ’l superbo Ilïón fu combusto.\n",
    "\n",
    "  Ma tu perché ritorni a tanta noia?\n",
    "  perché non sali il dilettoso monte\n",
    "  ch’è principio e cagion di tutta gioia?».\n",
    "\n",
    "  «Or se’ tu quel Virgilio e quella fonte\n",
    "  che spandi di parlar sì largo fiume?»,\n",
    "  rispuos’ io lui con vergognosa fronte.\n",
    "\n",
    "  «O de li altri poeti onore e lume,\n",
    "  vagliami ’l lungo studio e ’l grande amore\n",
    "  che m’ha fatto cercar lo tuo volume.\n",
    "\n",
    "  Tu se’ lo mio maestro e ’l mio autore,\n",
    "  tu se’ solo colui da cu’ io tolsi\n",
    "  lo bello stilo che m’ha fatto onore.\n",
    "\n",
    "  Vedi la bestia per cu’ io mi volsi;\n",
    "  aiutami da lei, famoso saggio,\n",
    "  ch’ella mi fa tremar le vene e i polsi».\n",
    "\n",
    "  «A te convien tenere altro vïaggio»,\n",
    "  rispuose, poi che lagrimar mi vide,\n",
    "  «se vuo’ campar d’esto loco selvaggio;\n",
    "\n",
    "  ché questa bestia, per la qual tu gride,\n",
    "  non lascia altrui passar per la sua via,\n",
    "  ma tanto lo ’mpedisce che l’uccide;\n",
    "\n",
    "  e ha natura sì malvagia e ria,\n",
    "  che mai non empie la bramosa voglia,\n",
    "  e dopo ’l pasto ha più fame che pria.\n",
    "\n",
    "  Molti son li animali a cui s’ammoglia,\n",
    "  e più saranno ancora, infin che ’l veltro\n",
    "  verrà, che la farà morir con doglia.\n",
    "  Allora il savio poeta si mosse, ed io dietro a lui, con passi timidi, per la selva oscura. Procedevamo lenti, ché il terreno, intriso di paura e di memorie antiche, sembrava voler trattenere i nostri passi. Il silenzio regnava sovrano, rotto solo dal frusciare lieve delle nostre vesti tra i rovi e le sterpaglie.\n",
    "\n",
    "Camminammo per tempo che non saprei dire, finché giungemmo presso una porta solenne, arcigna, su cui era scritto in caratteri di fuoco: «Lasciate ogne speranza, voi ch'intrate». Sentii il sangue gelarmi nelle vene, ma Virgilio, con voce ferma, mi rassicurò: «Non temere, ché sotto la mia guida potrai attraversare questi regni d'ombra e di pena.»\n",
    "\n",
    "Varcammo la soglia, ed ecco che il lamento, il pianto, il gemito degli spiriti dannati giunse a colpire le mie orecchie. Vidi anime nude, tormentate, che correvano senza posa, inseguite da vespe feroci che laceravano loro il viso e le mani. «Questi,» spiegò Virgilio, «sono coloro che in vita non vollero mai scegliere tra il bene e il male; ora sono condannati a questa eterna corsa senza scopo.»\n",
    "\n",
    "Proseguimmo ancora, giungendo al fiume Acheronte, cupe le sue acque e oscuro il suo corso. Là incontrammo Caronte, il vecchio traghettatore dagli occhi di brace, che ci intimò di tornare indietro. Ma Virgilio, mostrando il segno divino, lo costrinse ad obbedire, e fummo traghettati sull'altra riva.\n",
    "\n",
    "Entrammo così nel primo cerchio dell'Inferno, il Limbo, dove stavano le anime virtuose non battezzate. Là vidi filosofi, poeti, sapienti dell'antichità: Omero, Orazio, Ovidio, e tanti altri. Essi vivevano in un mesto desiderio, privi della visione di Dio, ma non tormentati da pene fisiche.\n",
    "\n",
    "Da lì, scendemmo a cerchi più profondi, ognuno riservato a peccati più gravi: la lussuria, la gola, l'avarizia, l'ira... In ogni luogo, vidi pene sempre più atroci, e udivo storie di vita e di caduta che strappavano il cuore.\n",
    "\n",
    "Quando giungemmo alla città di Dite, circondata da mura infuocate e custodita da demoni spietati, fui preso da grande terrore. Virgilio, però, si fece avanti con autorità, e gli angeli celesti gli aprirono la via. Entrammo dunque in quel luogo d'orrore dove erano puniti gli eretici.\n",
    "\n",
    "Molto ancora vidi e udii, e molte anime mi narrarono i loro tragici destini. Così imparai che ogni peccato porta con sé la propria condanna, come seme che germoglia in frutto amaro.\n",
    "\n",
    "Infine giungemmo all'orrendo Cocito, il lago ghiacciato dove stanno i traditori, immersi nel ghiaccio eterno. Al centro di quel lago orrendo stava Lucifero, il re dell'Inferno, enorme e spaventoso, intento a maciullare nelle sue bocche i tre più grandi traditori: Giuda Iscariota, Bruto e Cassio.\n",
    "\n",
    "Virgilio mi condusse attraverso quell'ultimo orrore, e, arrampicandoci lungo il corpo del Maligno, risalimmo verso la luce. Dopo tanto cammino nel buio, rivedemmo le stelle.\n",
    "\n",
    "***\n",
    "\n",
    "Così terminò il mio viaggio nell'abisso, ma nel cuore mi rimase impressa la memoria di ogni pena, di ogni gemito, di ogni insegnamento che avevo colà raccolto. Tornato alla luce, mi promisi di consacrare la mia vita alla ricerca della virtù e della verità.\n",
    "\n",
    "Ma la via della redenzione è lunga, e l'uomo, fragile creatura, è facile preda delle tentazioni. Così, pur animato dai migliori propositi, spesso caddi, come ogni figlio di Adamo, preda delle mie passioni, delle mie paure, dei miei desideri inconfessabili.\n",
    "\n",
    "Eppure, ogni volta che sollevavo lo sguardo verso il cielo stellato, mi ricordavo del viaggio compiuto e rinasceva in me la speranza, quella speranza che sola può guidare l'anima attraverso le tenebre dell'esistenza verso la beatitudine eterna.\n",
    "\n",
    "\"\"\"\n"
   ]
  },
  {
   "cell_type": "code",
   "execution_count": 28,
   "metadata": {},
   "outputs": [],
   "source": [
    "italian_sample = clean_sample(italian_sample)"
   ]
  },
  {
   "cell_type": "markdown",
   "metadata": {},
   "source": [
    "<div class=\"alert alert-info\">\n",
    "Compare the cleaned-up version of the french text with the original. Do you notice any significant difference?\n",
    "<br><br>\n",
    "When you've identified it, contact one of the instructors.\n",
    "</div>"
   ]
  },
  {
   "cell_type": "code",
   "execution_count": 29,
   "metadata": {},
   "outputs": [
    {
     "name": "stdout",
     "output_type": "stream",
     "text": [
      "Original French Text:  charles baudelaire avait un ami auguste pouletmalassis ancien elevede lecole des chartes qui setait fait editeur par gout pour lesraffinements typographiques et pour la litterature quil jugeait enerudit et en artiste beaucoup plus quen commercant aussi bien ne fitil jamais fortune mais ses livres devenus assez rares sont depuislongtemps tres recherches des bibliophilesles poesies de baudelaire disseminees un peu partout dans les petitsjournaux davantgarde comme le corsaire et jusque dans la graverevue des deuxmondes navaient point encore en etereunies en volume pouletmalassis que le genie original de baudelaireenthousiasmait soffrit de les publier sous le titre de fleurs dumal titre neuf audacieux longtemps cherche et trouve enfin nonpoint par baudelaire ni par lediteur mais par hippolyte baboules fleurs du mal se presentaient comme un bouquet poetiquecompose de fleurs rares et veneneuses dun parfum encore ignore ce futun successucces dailleurs prepare par la revue des deuxmondes qui en accueillant un an auparavant quelques poesies debaudelaire avait mis sa responsabilite a couvert par une notesingulierement prudente de nos jours une pareille note ressembleraitfort a une reclame deguisee ce qui nous parait ici meriter linteret disaitelle cestlexpression vive curieuse meme dans sa violence de quelquesdefaillances de quelques douleurs morales que sans les partager niles discuter on doit tenir a connaitre comme un des signes de notretemps il nous semble dailleurs quil est des cas ou la publicitenest pas seulement un encouragement ou elle peut avoir linfluencedun conseil utile et appeler le vrai talent a se degager a sefortifier en elargissant ses voies en etendant son horizon cetait se meprendre etrangement que de compter sur la publicite pouramener baudelaire a resipiscence le parquet imperial ne prit pas tantde menagements le livre a peine paru fut defere aux tribunaux tandisque baudelaire se hatait de recueillir en brochure les articlesjustificatifs dedmond thierry barbey daurevilly charles asselineauetc il sollicitait lamitie de saintebeuve et de flaubert toutrecemment poursuivi pour avoir ecrit madame bovary des moyensde defense dont les minutes ont ete conservees et dont il transmettaitla teneur a son avocat me chaix destange sur le requisitoire de mpinard alors avocat general et plus tard ministre de linterieur ledelit doffense a la morale religieuse fut ecarte mais en raison de laprevention doutrage a la morale publiques et aux bonnes moeurs lacour prononca la suppression de six pieces lesbos femmes damneesle lethe a celle qui est trop gaie les bijoux et les metamorphoses duvampire et la condamnation a une amende de lauteur et delediteur aout le dommage materiel ne fut pas considerable pour malassis leditionetait presque epuisee lors de la saisietout dabord baudelaire voulut protester on a retrouve dans sespapiers le brouillon de divers projets de prefaces quil abandonna lorsde la reimpression a la fois diminuee et augmentee des fleurs dumal en cette mutilation de sa pensee par autorite de justiceavait eu pour resultat de rendre les directeurs de journaux et derevues tres mefiants a son egard lorsquil leur presentait quelquespages de prose ou des poesies nouvelles sa situation pecuniaire senressentit il travaillait lentement a ses heures toujours preoccupedatteindre lideale perfection et ne traitant dailleurs que dessujets auxquels le grand public etait alors encore plusquaujourdhui completement etrangerlorsque baudelaire posa en sa candidature aux fauteuilsacademiques laisses vacants par la mort de scribe et du perelacordaire il etait dans sa pensee de protester ainsi contre lacondamnation des fleurs du mal linsucces de baudelaire alacademie netait pas douteux ses amis ses vrais amis alfred devigny et saintebeuve lui conseillerent de se desister ce quil fitdailleurs en des termes dont on apprecia la modestie et la convenance baudelaire profondement meurtri par les attaques incessantes dont il fut lobjet trouva neanmoins dans ladversite une source renouvelee dinspiration ses ecrits critiques notamment ceux sur edgar allan poe refletent une admiration sans bornes pour ce quil appelait lesprit de lanalyse poussee jusqua lextreme cette fascination se traduit par une serie detudes ou baudelaire esquisse une theorie du genie litteraire melant intuition melancolie et lucidite impitoyableau fil des annees le poete affermit ses relations avec dautres figures de la boheme litteraire notamment theophile gautier quil considerait comme un modele delegance et de rigueur stylistique toutefois ses rapports avec ses contemporains demeurerent souvent empreints dune tension latente reflet de son orgueil blesse et de son exigence esthetique sans compromisvers accable par des soucis financiers croissants et par une sante declinante baudelaire entreprit un voyage en belgique esperant y trouver une reconnaissance quil croyait desormais refusee en france ce fut un echec amer les conferences prevues nattirerent guere de public et laccueil reserve a ses poesies fut froid voire hostile de cette experience naitra cependant louvrage posthume pauvre belgique recueil acerbe de notes ou le poete dresse un portrait sans pitie dun pays quil juge mediocre et etriquependant ce sejour ses forces declinent rapidement victime dune attaque cerebrale en baudelaire est frappe daphasie perdant en grande partie lusage de la parole transporte a paris il finit ses jours dans une maison de soins entoure de quelques fideles amis parmi lesquels charles asselineau son premier biographela mort de baudelaire survenue le aout fut saluee avec une discretion melee de respect par le monde litteraire si de son vivant il avait suscite scandales et controverses la posterite lui accorda rapidement une place de choix parmi les renovateurs de la poesie moderne verlaine mallarme et tant dautres trouverent dans les fleurs du mal la source dune inspiration nouvelle un souffle noir et somptueux a la foisaujourdhui encore la figure de charles baudelaire demeure entouree dune aura singuliere celle de lartiste maudit du visionnaire lucide qui sut exprimer les angoisses existentielles dun siecle en mutation son influence depasse largement le cadre de la litterature francaise elle irrigue la poesie mondiale la philosophie et meme certaines formes dart contemporainon ne saurait comprendre baudelaire sans evoquer son gout immodere pour la beaute sous toutes ses formes ni sans rappeler la constante oscillation entre lideal et le spleen qui caracterise son œuvre entiere ce tiraillement interieur loin de lamoindrir confere a sa poesie une intensite rare une profondeur vertigineuse ou chaque lecteur dhier comme daujourdhui peut retrouver un echo de ses propres tourmentsle temps na nullement altere la fraicheur ni laprete des fleurs du mal chaque generation y decouvre de nouvelles resonances tantot dans la sensualite trouble des vers tantot dans la melancolie souveraine des paysages interieurs quils evoquent le jugement porte par ses contemporains sest mue en reconnaissance unanime baudelaire est avec victor hugo lun des piliers incontestes du pantheon poetique francaisil est le poete de la modernite celui qui a su capter lessence meme de son temps\n",
      "Cleaned French Text:  charles baudelaire avait un ami auguste pouletmalassis ancien elevede lecole des chartes qui setait fait editeur par gout pour lesraffinements typographiques et pour la litterature quil jugeait enerudit et en artiste beaucoup plus quen commercant aussi bien ne fitil jamais fortune mais ses livres devenus assez rares sont depuislongtemps tres recherches des bibliophilesles poesies de baudelaire disseminees un peu partout dans les petitsjournaux davantgarde comme le corsaire et jusque dans la graverevue des deuxmondes navaient point encore en etereunies en volume pouletmalassis que le genie original de baudelaireenthousiasmait soffrit de les publier sous le titre de fleurs dumal titre neuf audacieux longtemps cherche et trouve enfin nonpoint par baudelaire ni par lediteur mais par hippolyte baboules fleurs du mal se presentaient comme un bouquet poetiquecompose de fleurs rares et veneneuses dun parfum encore ignore ce futun successucces dailleurs prepare par la revue des deuxmondes qui en accueillant un an auparavant quelques poesies debaudelaire avait mis sa responsabilite a couvert par une notesingulierement prudente de nos jours une pareille note ressembleraitfort a une reclame deguisee ce qui nous parait ici meriter linteret disaitelle cestlexpression vive curieuse meme dans sa violence de quelquesdefaillances de quelques douleurs morales que sans les partager niles discuter on doit tenir a connaitre comme un des signes de notretemps il nous semble dailleurs quil est des cas ou la publicitenest pas seulement un encouragement ou elle peut avoir linfluencedun conseil utile et appeler le vrai talent a se degager a sefortifier en elargissant ses voies en etendant son horizon cetait se meprendre etrangement que de compter sur la publicite pouramener baudelaire a resipiscence le parquet imperial ne prit pas tantde menagements le livre a peine paru fut defere aux tribunaux tandisque baudelaire se hatait de recueillir en brochure les articlesjustificatifs dedmond thierry barbey daurevilly charles asselineauetc il sollicitait lamitie de saintebeuve et de flaubert toutrecemment poursuivi pour avoir ecrit madame bovary des moyensde defense dont les minutes ont ete conservees et dont il transmettaitla teneur a son avocat me chaix destange sur le requisitoire de mpinard alors avocat general et plus tard ministre de linterieur ledelit doffense a la morale religieuse fut ecarte mais en raison de laprevention doutrage a la morale publiques et aux bonnes moeurs lacour prononca la suppression de six pieces lesbos femmes damneesle lethe a celle qui est trop gaie les bijoux et les metamorphoses duvampire et la condamnation a une amende de lauteur et delediteur aout le dommage materiel ne fut pas considerable pour malassis leditionetait presque epuisee lors de la saisietout dabord baudelaire voulut protester on a retrouve dans sespapiers le brouillon de divers projets de prefaces quil abandonna lorsde la reimpression a la fois diminuee et augmentee des fleurs dumal en cette mutilation de sa pensee par autorite de justiceavait eu pour resultat de rendre les directeurs de journaux et derevues tres mefiants a son egard lorsquil leur presentait quelquespages de prose ou des poesies nouvelles sa situation pecuniaire senressentit il travaillait lentement a ses heures toujours preoccupedatteindre lideale perfection et ne traitant dailleurs que dessujets auxquels le grand public etait alors encore plusquaujourdhui completement etrangerlorsque baudelaire posa en sa candidature aux fauteuilsacademiques laisses vacants par la mort de scribe et du perelacordaire il etait dans sa pensee de protester ainsi contre lacondamnation des fleurs du mal linsucces de baudelaire alacademie netait pas douteux ses amis ses vrais amis alfred devigny et saintebeuve lui conseillerent de se desister ce quil fitdailleurs en des termes dont on apprecia la modestie et la convenance baudelaire profondement meurtri par les attaques incessantes dont il fut lobjet trouva neanmoins dans ladversite une source renouvelee dinspiration ses ecrits critiques notamment ceux sur edgar allan poe refletent une admiration sans bornes pour ce quil appelait lesprit de lanalyse poussee jusqua lextreme cette fascination se traduit par une serie detudes ou baudelaire esquisse une theorie du genie litteraire melant intuition melancolie et lucidite impitoyableau fil des annees le poete affermit ses relations avec dautres figures de la boheme litteraire notamment theophile gautier quil considerait comme un modele delegance et de rigueur stylistique toutefois ses rapports avec ses contemporains demeurerent souvent empreints dune tension latente reflet de son orgueil blesse et de son exigence esthetique sans compromisvers accable par des soucis financiers croissants et par une sante declinante baudelaire entreprit un voyage en belgique esperant y trouver une reconnaissance quil croyait desormais refusee en france ce fut un echec amer les conferences prevues nattirerent guere de public et laccueil reserve a ses poesies fut froid voire hostile de cette experience naitra cependant louvrage posthume pauvre belgique recueil acerbe de notes ou le poete dresse un portrait sans pitie dun pays quil juge mediocre et etriquependant ce sejour ses forces declinent rapidement victime dune attaque cerebrale en baudelaire est frappe daphasie perdant en grande partie lusage de la parole transporte a paris il finit ses jours dans une maison de soins entoure de quelques fideles amis parmi lesquels charles asselineau son premier biographela mort de baudelaire survenue le aout fut saluee avec une discretion melee de respect par le monde litteraire si de son vivant il avait suscite scandales et controverses la posterite lui accorda rapidement une place de choix parmi les renovateurs de la poesie moderne verlaine mallarme et tant dautres trouverent dans les fleurs du mal la source dune inspiration nouvelle un souffle noir et somptueux a la foisaujourdhui encore la figure de charles baudelaire demeure entouree dune aura singuliere celle de lartiste maudit du visionnaire lucide qui sut exprimer les angoisses existentielles dun siecle en mutation son influence depasse largement le cadre de la litterature francaise elle irrigue la poesie mondiale la philosophie et meme certaines formes dart contemporainon ne saurait comprendre baudelaire sans evoquer son gout immodere pour la beaute sous toutes ses formes ni sans rappeler la constante oscillation entre lideal et le spleen qui caracterise son œuvre entiere ce tiraillement interieur loin de lamoindrir confere a sa poesie une intensite rare une profondeur vertigineuse ou chaque lecteur dhier comme daujourdhui peut retrouver un echo de ses propres tourmentsle temps na nullement altere la fraicheur ni laprete des fleurs du mal chaque generation y decouvre de nouvelles resonances tantot dans la sensualite trouble des vers tantot dans la melancolie souveraine des paysages interieurs quils evoquent le jugement porte par ses contemporains sest mue en reconnaissance unanime baudelaire est avec victor hugo lun des piliers incontestes du pantheon poetique francaisil est le poete de la modernite celui qui a su capter lessence meme de son temps\n"
     ]
    }
   ],
   "source": [
    "import unicodedata\n",
    "\n",
    "# Function to remove diacritical marks\n",
    "def sa(s):\n",
    "    return ''.join(c for c in unicodedata.normalize('NFD', s)\n",
    "                   if unicodedata.category(c) != 'Mn')\n",
    "\n",
    "# Clean the French text by removing accents\n",
    "cleaned_french_sample = sa(french_sample)\n",
    "\n",
    "# Print both versions for comparison\n",
    "print(\"Original French Text: \", french_sample)\n",
    "print(\"Cleaned French Text: \", cleaned_french_sample)\n"
   ]
  },
  {
   "cell_type": "markdown",
   "metadata": {},
   "source": [
    "Character Replacement: The function removes accents and special characters (e.g., \"é\" becomes \"e\", \"à\" becomes \"a\"), which can impact the text's accuracy, especially for characters with diacritical marks that change their meaning or pronunciation in French.\n",
    "\n",
    "Loss of Specific Formatting: The original text contains formatting like italics (e.g., Corsaire, Fleurs du Mal, etc.) and underscores, which were removed during the cleaning process. This could lead to the loss of stylistic nuances, such as distinguishing titles from regular text.\n",
    "\n",
    "Lack of Punctuation: The cleaned text also removes punctuation marks like commas, periods, and quotes, which makes it harder to distinguish sentence boundaries and understand the structure of the text.\n",
    "\n",
    "Space Handling: In some places, the text might have been overly simplified with extra spaces between words or missing spaces, which could change the flow of reading.\n",
    "\n",
    "**Totally I tried to solve this problem with modifying alphabet list with french and italian accents and special characters.**"
   ]
  },
  {
   "cell_type": "markdown",
   "metadata": {},
   "source": [
    "Now build three models, one for each sample."
   ]
  },
  {
   "cell_type": "code",
   "execution_count": 30,
   "metadata": {},
   "outputs": [],
   "source": [
    "english_model = estimate_markov_1(english_sample)\n",
    "french_model = estimate_markov_1(french_sample)\n",
    "italian_model = estimate_markov_1(italian_sample)"
   ]
  },
  {
   "cell_type": "markdown",
   "metadata": {},
   "source": [
    "We are ready to build the classifier. Write a function that receives a single string input. It has to compute the log-likelihood of that string according to the different models and then pick the best one. The function return value should be the name of the guessed language."
   ]
  },
  {
   "cell_type": "code",
   "execution_count": 31,
   "metadata": {},
   "outputs": [
    {
     "data": {
      "text/plain": [
       "array([[1.08917646e-03, 8.70579505e-03, 3.04675625e-02, ...,\n",
       "        1.08808837e-06, 1.08808837e-06, 4.22179376e-01],\n",
       "       [1.59335487e-01, 7.24331214e-02, 1.44837275e-05, ...,\n",
       "        1.44837275e-05, 1.44837275e-05, 1.44982113e-02],\n",
       "       [1.15567916e-01, 2.51229139e-06, 4.77360486e-02, ...,\n",
       "        2.51229139e-06, 2.51229139e-06, 2.51229139e-06],\n",
       "       ...,\n",
       "       [2.32558140e-02, 2.32558140e-02, 2.32558140e-02, ...,\n",
       "        2.32558140e-02, 2.32558140e-02, 2.32558140e-02],\n",
       "       [2.32558140e-02, 2.32558140e-02, 2.32558140e-02, ...,\n",
       "        2.32558140e-02, 2.32558140e-02, 2.32558140e-02],\n",
       "       [6.47717130e-02, 2.04546139e-02, 1.14202323e-01, ...,\n",
       "        5.68167937e-07, 5.68167937e-07, 5.68167937e-07]], shape=(43, 43))"
      ]
     },
     "execution_count": 31,
     "metadata": {},
     "output_type": "execute_result"
    }
   ],
   "source": [
    "italian_model"
   ]
  },
  {
   "cell_type": "markdown",
   "metadata": {},
   "source": [
    "shape=(43, 43) -> corresponds to the alphabet size you used for the Italian language, including all the letters and possibly special characters or spaces"
   ]
  },
  {
   "cell_type": "code",
   "execution_count": 32,
   "metadata": {},
   "outputs": [],
   "source": [
    "def guess_language(s):\n",
    "    \"\"\"\n",
    "    Guesses the language of the input string `s` using pre-trained Markov models (it just trained by one value).\n",
    "    The models are assumed to be of the form:\n",
    "    - (char2int, transition_matrix)\n",
    "    \"\"\"\n",
    "    # Compute log-likelihoods for each model string2ints\n",
    "    english_log_likelihood = loglik(string2ints(s), english_model)\n",
    "    french_log_likelihood = loglik(string2ints(s), french_model)\n",
    "    italian_log_likelihood = loglik(string2ints(s), italian_model)\n",
    "\n",
    "    # Store log-likelihoods in a dictionary\n",
    "    log_likelihoods = {\n",
    "        'english': english_log_likelihood,\n",
    "        'french': french_log_likelihood,\n",
    "        'italian': italian_log_likelihood\n",
    "    }\n",
    "    \n",
    "    # Return the language with the highest log-likelihood\n",
    "    return max(log_likelihoods, key=log_likelihoods.get)\n"
   ]
  },
  {
   "cell_type": "code",
   "execution_count": 33,
   "metadata": {},
   "outputs": [
    {
     "data": {
      "text/plain": [
       "'italian'"
      ]
     },
     "execution_count": 33,
     "metadata": {},
     "output_type": "execute_result"
    }
   ],
   "source": [
    "guess_language(\"ecco un messaggio scritto in italiano\")"
   ]
  },
  {
   "cell_type": "code",
   "execution_count": 34,
   "metadata": {},
   "outputs": [
    {
     "data": {
      "text/plain": [
       "'english'"
      ]
     },
     "execution_count": 34,
     "metadata": {},
     "output_type": "execute_result"
    }
   ],
   "source": [
    "guess_language(\"a sample message written in plain english gets a good classification\")"
   ]
  },
  {
   "cell_type": "code",
   "execution_count": 35,
   "metadata": {},
   "outputs": [
    {
     "data": {
      "text/plain": [
       "'french'"
      ]
     },
     "execution_count": 35,
     "metadata": {},
     "output_type": "execute_result"
    }
   ],
   "source": [
    "guess_language('''\n",
    "Allons enfants de la Patrie\n",
    "Le jour de gloire est arrivé!\n",
    "Contre nous de la tyrannie\n",
    "''')"
   ]
  },
  {
   "cell_type": "markdown",
   "metadata": {},
   "source": [
    "## Performance Evaluation"
   ]
  },
  {
   "cell_type": "markdown",
   "metadata": {},
   "source": [
    "<div class=\"alert alert-info\">\n",
    "This section is optional.\n",
    "</div>"
   ]
  },
  {
   "cell_type": "markdown",
   "metadata": {},
   "source": [
    "No classifier is perfect. Here we should put our function `guess_language` to the test and check in which conditions it works and in which it provides a wrong result.\n",
    "There are two choices having a primary impact of performances: the size of the training dataset (text) and that of the message to be classified.\n",
    "\n",
    "Here we will concentrate on the second, that is the message length. Write a function `extract_with_length` to extract a random selection out of a string, given a desired length.\n",
    "\n",
    "For instance:\n",
    "\n",
    "```python\n",
    "extract_with_length('a simple message', 6)\n",
    "```\n",
    "\n",
    "should return, each time it is called, a (different) random substring of length 6.\n",
    "\n",
    "Examples:\n",
    "\n",
    "```python\n",
    ">>> extract_with_length('a simple message', 6)\n",
    "\"a simp\"\n",
    ">>> extract_with_length('a simple message', 6)\n",
    "\"messag\"\n",
    "```"
   ]
  },
  {
   "cell_type": "markdown",
   "metadata": {},
   "source": [
    "<div class=\"alert alert-info\">\n",
    "Import the ```random``` library. You can then use the ```random.randint``` function to generate random integer numbers. Use the Jupyter documentation to check how the function works.\n",
    "</div>"
   ]
  },
  {
   "cell_type": "code",
   "execution_count": 36,
   "metadata": {},
   "outputs": [],
   "source": [
    "import random"
   ]
  },
  {
   "cell_type": "code",
   "execution_count": 37,
   "metadata": {},
   "outputs": [],
   "source": [
    "def extract_with_length(s, n):\n",
    "    \"\"\"\n",
    "    Extract a random substring of length `length` from the string `s`.\n",
    "    \n",
    "    Parameters\n",
    "    ----------\n",
    "    s : str\n",
    "        The input string from which the substring is extracted.\n",
    "    length : int\n",
    "        The desired length of the extracted substring.\n",
    "    \n",
    "    Returns\n",
    "    -------\n",
    "    str\n",
    "        A randomly selected substring of the given length from `s`.\n",
    "    \"\"\"\n",
    "    if len(s) < n:\n",
    "        raise ValueError(\"The length of the substring must be less than or equal to the length of the string.\")\n",
    "    \n",
    "    start_index = random.randint(0, len(s) - n)  # Random start index\n",
    "    return s[start_index:start_index + n]"
   ]
  },
  {
   "cell_type": "code",
   "execution_count": 38,
   "metadata": {},
   "outputs": [
    {
     "data": {
      "text/plain": [
       "'sh'"
      ]
     },
     "execution_count": 38,
     "metadata": {},
     "output_type": "execute_result"
    }
   ],
   "source": [
    "extract_with_length('short', 2)\n"
   ]
  },
  {
   "cell_type": "markdown",
   "metadata": {},
   "source": [
    "What happens if I run the following code:\n",
    "\n",
    "```python\n",
    "extract_with_length('short', 20)\n",
    "```\n",
    "\n",
    "How can I avoid this problem, while improving the error message?"
   ]
  },
  {
   "cell_type": "markdown",
   "metadata": {},
   "source": [
    "We can now implement a Monte Carlo simulation to evaluate the performance of our classifier with respect to the length of the input message.\n",
    "\n",
    "* choose a length `l` (for instance, `l=10`) and extract 1000 random strings with `extract_with_length`;\n",
    "* run `guess_language` on those strings and record whether the classifier was right or wrong;\n",
    "* calculate the performance as the ratio between correct and total classifications;\n",
    "* repeat the above procedure for all lengths `l` between 5 and 40.\n",
    "\n",
    "Prepare a scatter plot displaying the value of `l` on the $x$ axis and the performance on the $y$ axis.\n",
    "\n",
    "Do you see any trend? Can you explain it?"
   ]
  },
  {
   "cell_type": "code",
   "execution_count": 39,
   "metadata": {},
   "outputs": [],
   "source": [
    "import matplotlib.pylab as plt\n",
    "%matplotlib inline"
   ]
  },
  {
   "cell_type": "markdown",
   "metadata": {},
   "source": [
    "|I'm trying to test:\n",
    "\n",
    "How good is my model at guessing the correct language when given short or long messages?"
   ]
  },
  {
   "cell_type": "code",
   "execution_count": 40,
   "metadata": {},
   "outputs": [],
   "source": [
    "def performance_monte_carlo(template, expected_language):\n",
    "    \"\"\"\n",
    "    Performs a Monte Carlo simulation to evaluate the performance of the guess_language classifier\n",
    "    at different message lengths.\n",
    "    \n",
    "    Parameters:\n",
    "    ----------\n",
    "    template : str\n",
    "        The string to use as the basis for generating random substrings.\n",
    "    expected_language : str\n",
    "        The actual language of the `template` string (for performance evaluation).\n",
    "    \"\"\"\n",
    "    X = []  # List to store the different lengths of substrings\n",
    "    Y = []  # List to store the corresponding performance for each length\n",
    "\n",
    "    # Loop through all lengths from 5 to 40\n",
    "    for l in range(5, 41):\n",
    "        correct_count = 0\n",
    "        \n",
    "        # Generate 1000 random substrings of length l\n",
    "        for _ in range(1000):\n",
    "            random_substring = extract_with_length(template, l)\n",
    "            \n",
    "            # Classify the random substring\n",
    "            predicted_language = guess_language(random_substring)\n",
    "            \n",
    "            # Check if the classifier was correct\n",
    "            if predicted_language == expected_language:\n",
    "                correct_count += 1\n",
    "        \n",
    "        # Calculate the accuracy (performance) for this length\n",
    "        performance = correct_count / 1000\n",
    "        X.append(l)\n",
    "        Y.append(performance)\n",
    "    \n",
    "    # Plot the results as a line plot\n",
    "    plt.plot(X, Y)\n",
    "    plt.xlabel('Message Length (l)')\n",
    "    plt.ylabel('Performance (Accuracy)')\n",
    "    plt.title('Performance of Classifier with Varying Message Length')\n",
    "    plt.grid(True)\n",
    "    plt.show()\n"
   ]
  },
  {
   "cell_type": "code",
   "execution_count": 41,
   "metadata": {},
   "outputs": [
    {
     "data": {
      "image/png": "[encoded data removed]",
      "text/plain": [
       "<Figure size 640x480 with 1 Axes>"
      ]
     },
     "metadata": {},
     "output_type": "display_data"
    }
   ],
   "source": [
    "performance_monte_carlo(clean_sample('''\n",
    "Va’, pensiero, sull'ali dorate;\n",
    "va’, ti posa sui clivi, sui colli,\n",
    "ove olezzano tepide e molli\n",
    "l'aure dolci del suolo natal!\n",
    "\n",
    "Del Giordano le rive saluta,\n",
    "di Sionne le torri atterrate...\n",
    "Oh, mia patria sì bella e perduta!\n",
    "Oh, membranza sì cara e fatal!\n",
    "\n",
    "Arpa d'or dei fatidici vati,\n",
    "perché muta dal salice pendi?\n",
    "Le memorie nel petto raccendi,\n",
    "ci favella del tempo che fu!\n",
    "\n",
    "O simile di Solima ai fati\n",
    "traggi un suono di crudo lamento,\n",
    "o t'ispiri il Signore un concento\n",
    "che ne infonda al patire virtù!\n",
    "'''), 'italian')"
   ]
  },
  {
   "cell_type": "markdown",
   "metadata": {},
   "source": [
    "For l = 5 to 40:\n",
    "    For 1000 random substrings of length l:\n",
    "        1. Pick a random substring\n",
    "        2. Predict its language\n",
    "        3. Check if the guess is correct\n",
    "    Record % correct\n",
    "Plot accuracy vs message length\n"
   ]
  },
  {
   "cell_type": "markdown",
   "metadata": {},
   "source": [
    "## Appendix A"
   ]
  },
  {
   "cell_type": "code",
   "execution_count": 42,
   "metadata": {},
   "outputs": [],
   "source": [
    "import unicodedata\n",
    "def sa(s):\n",
    "    return ''.join(c for c in unicodedata.normalize('NFD', s)\n",
    "                   if unicodedata.category(c) != 'Mn')"
   ]
  },
  {
   "cell_type": "markdown",
   "metadata": {},
   "source": [
    "deepsea\n",
    "\n",
    "nolga G troyanskaya"
   ]
  },
  {
   "cell_type": "code",
   "execution_count": null,
   "metadata": {},
   "outputs": [],
   "source": []
  },
  {
   "cell_type": "markdown",
   "metadata": {},
   "source": [
    "# Optimiziation"
   ]
  },
  {
   "cell_type": "markdown",
   "metadata": {},
   "source": [
    "## 2nd-order Markov Model or \"bigram Markov model\""
   ]
  },
  {
   "cell_type": "code",
   "execution_count": 43,
   "metadata": {},
   "outputs": [],
   "source": [
    "def estimate_markov_2(s):\n",
    "    \"\"\"\n",
    "    Estimate the 2nd-order Markov transition tensor from string `s` (with Laplace smoothing).\n",
    "    Returns an n×n×n array m where m[i,j,k] = P(next=k | prev1=i, prev2=j).\n",
    "    \"\"\"\n",
    "    import numpy as np\n",
    "    alphabet = list(\"abcdefghijklmnopqrstuvwxyzàâäéèêëîïôöùûüçœ \")\n",
    "    char2int = letters2int(alphabet)\n",
    "    n = len(alphabet)\n",
    "\n",
    "    idxs = string2ints(s)\n",
    "\n",
    "    # 1. Build frequency tensor\n",
    "    freq = np.zeros((n, n, n), dtype=float)\n",
    "    for i in range(len(idxs) - 2):\n",
    "        prev1 = idxs[i]\n",
    "        prev2 = idxs[i+1]\n",
    "        curr = idxs[i+2]\n",
    "        freq[prev1, prev2, curr] += 1\n",
    "\n",
    "    # 2. Laplace smoothing\n",
    "    freq += 0.001\n",
    "\n",
    "    # 3. Normalize across last axis\n",
    "    row_sums = freq.sum(axis=2, keepdims=True)\n",
    "    with np.errstate(divide='ignore', invalid='ignore'):\n",
    "        m = np.divide(freq, row_sums, where=row_sums != 0)\n",
    "        m[np.isnan(m)] = 0.0\n",
    "\n",
    "    return m\n"
   ]
  },
  {
   "cell_type": "code",
   "execution_count": 44,
   "metadata": {},
   "outputs": [],
   "source": [
    "english_model = estimate_markov_2(english_sample)\n",
    "french_model = estimate_markov_2(french_sample)\n",
    "italian_model = estimate_markov_2(italian_sample)"
   ]
  },
  {
   "cell_type": "code",
   "execution_count": 45,
   "metadata": {},
   "outputs": [],
   "source": [
    "def loglik_2nd_order(ints, m):\n",
    "    \"\"\"\n",
    "    Compute the log-likelihood of a sequence of state indices under\n",
    "    a 2nd-order Markov model (triplet transitions).\n",
    "\n",
    "    Parameters\n",
    "    ----------\n",
    "    ints : list of int\n",
    "    m : 3D array-like\n",
    "    \n",
    "    Returns\n",
    "    -------\n",
    "    float\n",
    "        The sum of the log-probabilities of each transition,\n",
    "        or -inf if any transition has zero probability.\n",
    "    \"\"\"\n",
    "    import math\n",
    "    if len(ints) < 3:\n",
    "        return float('-inf')  # Need at least 3 characters for 2nd-order\n",
    "\n",
    "    log_sum = 0.0\n",
    "    for i in range(len(ints) - 2):\n",
    "        prev1 = ints[i]\n",
    "        prev2 = ints[i + 1]\n",
    "        curr = ints[i + 2]\n",
    "        prob = m[prev1][prev2][curr]\n",
    "        if prob == 0.0:\n",
    "            return float('-inf')\n",
    "        log_sum += math.log(prob)\n",
    "    return log_sum\n"
   ]
  },
  {
   "cell_type": "code",
   "execution_count": 46,
   "metadata": {},
   "outputs": [],
   "source": [
    "def guess_language(s):\n",
    "    \"\"\"\n",
    "    Guesses the language of the input string `s` using pre-trained Markov models (it just trained by one value).\n",
    "    The models are assumed to be of the form:\n",
    "    - (char2int, transition_matrix)\n",
    "    \"\"\"\n",
    "    # Compute log-likelihoods for each model string2ints\n",
    "    english_log_likelihood = loglik_2nd_order(string2ints(s), english_model)\n",
    "    french_log_likelihood = loglik_2nd_order(string2ints(s), french_model)\n",
    "    italian_log_likelihood = loglik_2nd_order(string2ints(s), italian_model)\n",
    "\n",
    "    # Store log-likelihoods in a dictionary\n",
    "    log_likelihoods = {\n",
    "        'english': english_log_likelihood,\n",
    "        'french': french_log_likelihood,\n",
    "        'italian': italian_log_likelihood\n",
    "    }\n",
    "    \n",
    "    # Return the language with the highest log-likelihood\n",
    "    return max(log_likelihoods, key=log_likelihoods.get)\n"
   ]
  },
  {
   "cell_type": "code",
   "execution_count": 47,
   "metadata": {},
   "outputs": [],
   "source": [
    "def performance_monte_carlo(template, expected_language):\n",
    "    \"\"\"\n",
    "    Performs a Monte Carlo simulation to evaluate the performance of the guess_language classifier\n",
    "    at different message lengths.\n",
    "    \n",
    "    Parameters:\n",
    "    ----------\n",
    "    template : str\n",
    "        The string to use as the basis for generating random substrings.\n",
    "    expected_language : str\n",
    "        The actual language of the `template` string (for performance evaluation).\n",
    "    \"\"\"\n",
    "    X = []  # List to store the different lengths of substrings\n",
    "    Y = []  # List to store the corresponding performance for each length\n",
    "\n",
    "    # Loop through all lengths from 5 to 40\n",
    "    for l in range(5, 41):\n",
    "        correct_count = 0\n",
    "        \n",
    "        # Generate 1000 random substrings of length l\n",
    "        for _ in range(1000):\n",
    "            random_substring = extract_with_length(template, l)\n",
    "            \n",
    "            # Classify the random substring\n",
    "            predicted_language = guess_language(random_substring)\n",
    "            \n",
    "            # Check if the classifier was correct\n",
    "            if predicted_language == expected_language:\n",
    "                correct_count += 1\n",
    "        \n",
    "        # Calculate the accuracy (performance) for this length\n",
    "        performance = correct_count / 1000\n",
    "        X.append(l)\n",
    "        Y.append(performance)\n",
    "    \n",
    "    # Plot the results as a line plot\n",
    "    plt.plot(X, Y)\n",
    "    plt.xlabel('Message Length (l)')\n",
    "    plt.ylabel('Performance (Accuracy)')\n",
    "    plt.title('Performance of Classifier with Varying Message Length')\n",
    "    plt.grid(True)\n",
    "    plt.show()\n"
   ]
  },
  {
   "cell_type": "code",
   "execution_count": 48,
   "metadata": {},
   "outputs": [
    {
     "data": {
      "image/png": "[encoded data removed]",
      "text/plain": [
       "<Figure size 640x480 with 1 Axes>"
      ]
     },
     "metadata": {},
     "output_type": "display_data"
    }
   ],
   "source": [
    "performance_monte_carlo(clean_sample('''\n",
    "Va’, pensiero, sull'ali dorate;\n",
    "va’, ti posa sui clivi, sui colli,\n",
    "ove olezzano tepide e molli\n",
    "l'aure dolci del suolo natal!\n",
    "\n",
    "Del Giordano le rive saluta,\n",
    "di Sionne le torri atterrate...\n",
    "Oh, mia patria sì bella e perduta!\n",
    "Oh, membranza sì cara e fatal!\n",
    "\n",
    "Arpa d'or dei fatidici vati,\n",
    "perché muta dal salice pendi?\n",
    "Le memorie nel petto raccendi,\n",
    "ci favella del tempo che fu!\n",
    "\n",
    "O simile di Solima ai fati\n",
    "traggi un suono di crudo lamento,\n",
    "o t'ispiri il Signore un concento\n",
    "che ne infonda al patire virtù!\n",
    "'''), 'italian')"
   ]
  },
  {
   "cell_type": "markdown",
   "metadata": {},
   "source": [
    "Interpretation:\n",
    "\n",
    "The model can guess the language of a text containing 40 (alphabets+space) with 100% accracy"
   ]
  },
  {
   "cell_type": "markdown",
   "metadata": {},
   "source": [
    "# **Now I have a better model!!**"
   ]
  },
  {
   "cell_type": "markdown",
   "metadata": {},
   "source": [
    "# 2th step Optimization (having higher accuracy with shorter length)"
   ]
  },
  {
   "cell_type": "markdown",
   "metadata": {},
   "source": [
    "## Trying larger smoothing \"0.1\""
   ]
  },
  {
   "cell_type": "code",
   "execution_count": 49,
   "metadata": {},
   "outputs": [],
   "source": [
    "def estimate_markov_2(s):\n",
    "    \"\"\"\n",
    "    Estimate the 2nd-order Markov transition tensor from string `s` (with Laplace smoothing).\n",
    "    Returns an n×n×n array m where m[i,j,k] = P(next=k | prev1=i, prev2=j).\n",
    "    \"\"\"\n",
    "    import numpy as np\n",
    "    alphabet = list(\"abcdefghijklmnopqrstuvwxyzàâäéèêëîïôöùûüçœ \")\n",
    "    char2int = letters2int(alphabet)\n",
    "    n = len(alphabet)\n",
    "\n",
    "    idxs = string2ints(s)\n",
    "\n",
    "    # 1. Build frequency tensor\n",
    "    freq = np.zeros((n, n, n), dtype=float)\n",
    "    for i in range(len(idxs) - 2):\n",
    "        prev1 = idxs[i]\n",
    "        prev2 = idxs[i+1]\n",
    "        curr = idxs[i+2]\n",
    "        freq[prev1, prev2, curr] += 1\n",
    "\n",
    "    # 2. Laplace smoothing\n",
    "    freq += 0.1\n",
    "\n",
    "    # 3. Normalize across last axis\n",
    "    row_sums = freq.sum(axis=2, keepdims=True)\n",
    "    with np.errstate(divide='ignore', invalid='ignore'):\n",
    "        m = np.divide(freq, row_sums, where=row_sums != 0)\n",
    "        m[np.isnan(m)] = 0.0\n",
    "\n",
    "    return m\n"
   ]
  },
  {
   "cell_type": "code",
   "execution_count": 50,
   "metadata": {},
   "outputs": [],
   "source": [
    "english_model = estimate_markov_2(english_sample)\n",
    "french_model = estimate_markov_2(french_sample)\n",
    "italian_model = estimate_markov_2(italian_sample)"
   ]
  },
  {
   "cell_type": "code",
   "execution_count": 51,
   "metadata": {},
   "outputs": [],
   "source": [
    "def loglik_2nd_order(ints, m):\n",
    "    \"\"\"\n",
    "    Compute the log-likelihood of a sequence of state indices under\n",
    "    a 2nd-order Markov model (triplet transitions).\n",
    "\n",
    "    Parameters\n",
    "    ----------\n",
    "    ints : list of int\n",
    "    m : 3D array-like\n",
    "    \n",
    "    Returns\n",
    "    -------\n",
    "    float\n",
    "        The sum of the log-probabilities of each transition,\n",
    "        or -inf if any transition has zero probability.\n",
    "    \"\"\"\n",
    "    import math\n",
    "    if len(ints) < 3:\n",
    "        return float('-inf')  # Need at least 3 characters for 2nd-order\n",
    "\n",
    "    log_sum = 0.0\n",
    "    for i in range(len(ints) - 2):\n",
    "        prev1 = ints[i]\n",
    "        prev2 = ints[i + 1]\n",
    "        curr = ints[i + 2]\n",
    "        prob = m[prev1][prev2][curr]\n",
    "        if prob == 0.0:\n",
    "            return float('-inf')\n",
    "        log_sum += math.log(prob)\n",
    "    return log_sum\n"
   ]
  },
  {
   "cell_type": "code",
   "execution_count": 52,
   "metadata": {},
   "outputs": [],
   "source": [
    "def guess_language(s):\n",
    "    \"\"\"\n",
    "    Guesses the language of the input string `s` using pre-trained Markov models (it just trained by one value).\n",
    "    The models are assumed to be of the form:\n",
    "    - (char2int, transition_matrix)\n",
    "    \"\"\"\n",
    "    # Compute log-likelihoods for each model string2ints\n",
    "    english_log_likelihood = loglik_2nd_order(string2ints(s), english_model)\n",
    "    french_log_likelihood = loglik_2nd_order(string2ints(s), french_model)\n",
    "    italian_log_likelihood = loglik_2nd_order(string2ints(s), italian_model)\n",
    "\n",
    "    # Store log-likelihoods in a dictionary\n",
    "    log_likelihoods = {\n",
    "        'english': english_log_likelihood,\n",
    "        'french': french_log_likelihood,\n",
    "        'italian': italian_log_likelihood\n",
    "    }\n",
    "    \n",
    "    # Return the language with the highest log-likelihood\n",
    "    return max(log_likelihoods, key=log_likelihoods.get)\n"
   ]
  },
  {
   "cell_type": "code",
   "execution_count": 53,
   "metadata": {},
   "outputs": [],
   "source": [
    "def performance_monte_carlo(template, expected_language):\n",
    "    \"\"\"\n",
    "    Performs a Monte Carlo simulation to evaluate the performance of the guess_language classifier\n",
    "    at different message lengths.\n",
    "    \n",
    "    Parameters:\n",
    "    ----------\n",
    "    template : str\n",
    "        The string to use as the basis for generating random substrings.\n",
    "    expected_language : str\n",
    "        The actual language of the `template` string (for performance evaluation).\n",
    "    \"\"\"\n",
    "    X = []  # List to store the different lengths of substrings\n",
    "    Y = []  # List to store the corresponding performance for each length\n",
    "\n",
    "    # Loop through all lengths from 5 to 40\n",
    "    for l in range(5, 41):\n",
    "        correct_count = 0\n",
    "        \n",
    "        # Generate 1000 random substrings of length l\n",
    "        for _ in range(1000):\n",
    "            random_substring = extract_with_length(template, l)\n",
    "            \n",
    "            # Classify the random substring\n",
    "            predicted_language = guess_language(random_substring)\n",
    "            \n",
    "            # Check if the classifier was correct\n",
    "            if predicted_language == expected_language:\n",
    "                correct_count += 1\n",
    "        \n",
    "        # Calculate the accuracy (performance) for this length\n",
    "        performance = correct_count / 1000\n",
    "        X.append(l)\n",
    "        Y.append(performance)\n",
    "    \n",
    "    # Plot the results as a line plot\n",
    "    plt.plot(X, Y)\n",
    "    plt.xlabel('Message Length (l)')\n",
    "    plt.ylabel('Performance (Accuracy)')\n",
    "    plt.title('Performance of Classifier with Varying Message Length')\n",
    "    plt.grid(True)\n",
    "    plt.show()\n"
   ]
  },
  {
   "cell_type": "code",
   "execution_count": 54,
   "metadata": {},
   "outputs": [
    {
     "data": {
      "image/png": "[encoded data removed]",
      "text/plain": [
       "<Figure size 640x480 with 1 Axes>"
      ]
     },
     "metadata": {},
     "output_type": "display_data"
    }
   ],
   "source": [
    "performance_monte_carlo(clean_sample('''\n",
    "Va’, pensiero, sull'ali dorate;\n",
    "va’, ti posa sui clivi, sui colli,\n",
    "ove olezzano tepide e molli\n",
    "l'aure dolci del suolo natal!\n",
    "\n",
    "Del Giordano le rive saluta,\n",
    "di Sionne le torri atterrate...\n",
    "Oh, mia patria sì bella e perduta!\n",
    "Oh, membranza sì cara e fatal!\n",
    "\n",
    "Arpa d'or dei fatidici vati,\n",
    "perché muta dal salice pendi?\n",
    "Le memorie nel petto raccendi,\n",
    "ci favella del tempo che fu!\n",
    "\n",
    "O simile di Solima ai fati\n",
    "traggi un suono di crudo lamento,\n",
    "o t'ispiri il Signore un concento\n",
    "che ne infonda al patire virtù!\n",
    "'''), 'italian')"
   ]
  },
  {
   "cell_type": "markdown",
   "metadata": {},
   "source": [
    "## Smart mini-ensemble + ngrams"
   ]
  },
  {
   "cell_type": "markdown",
   "metadata": {},
   "source": [
    "Use loglik_2nd_order (as you already do).\n",
    "\n",
    "Also compute a simple vowel-ratio score for the string for each language.\n",
    "\n",
    "Combine these two scores (weighted sum).\n",
    "\n",
    "Pick the best"
   ]
  },
  {
   "cell_type": "code",
   "execution_count": 55,
   "metadata": {},
   "outputs": [
    {
     "name": "stdout",
     "output_type": "stream",
     "text": [
      "English vowel ratio: 0.3128256849890738\n",
      "French vowel ratio: 0.3825894094815636\n",
      "Italian vowel ratio: 0.38783120706575075\n"
     ]
    }
   ],
   "source": [
    "def compute_avg_vowel_ratio(s):\n",
    "    vowels = set('aeiouàâäéèêëîïôöùûüœ')\n",
    "    s = s.lower()\n",
    "    total = len(s)\n",
    "    vowel_count = sum(1 for c in s if c in vowels)\n",
    "    return vowel_count / total\n",
    "\n",
    "# Compute averages\n",
    "english_vr = compute_avg_vowel_ratio(english_sample)\n",
    "french_vr = compute_avg_vowel_ratio(french_sample)\n",
    "italian_vr = compute_avg_vowel_ratio(italian_sample)\n",
    "\n",
    "print(\"English vowel ratio:\", english_vr)\n",
    "print(\"French vowel ratio:\", french_vr)\n",
    "print(\"Italian vowel ratio:\", italian_vr)\n"
   ]
  },
  {
   "cell_type": "code",
   "execution_count": 56,
   "metadata": {},
   "outputs": [],
   "source": [
    "# Typical 3-grams for each language\n",
    "typical_ngrams = {\n",
    "    'french': ['que', 'ent', 'ion', 'les', 'des', 'est', 'une', 'mes'],\n",
    "    'italian': ['gli', 'sta', 'che', 'cia', 'una', 'non', 'con', 'ere', 'are', 'ire', 'ssi', 'tta', 'lle'],\n",
    "    'english': ['the', 'and', 'for', 'ing', 'ent', 'ion', 'her', 'tha']\n",
    "}"
   ]
  },
  {
   "cell_type": "code",
   "execution_count": 57,
   "metadata": {},
   "outputs": [],
   "source": [
    "def ngram_score(s, typical_ngrams):\n",
    "    \"\"\"\n",
    "    Compute a score based on matching typical 3-letter n-grams for each language.\n",
    "    Returns a dict: {language: score}\n",
    "    \"\"\"\n",
    "    s = s.lower()\n",
    "    ngram_counts = {'english': 0, 'french': 0, 'italian': 0}\n",
    "    for lang in typical_ngrams:\n",
    "        for ng in typical_ngrams[lang]:\n",
    "            ngram_counts[lang] += s.count(ng)\n",
    "    return ngram_counts\n"
   ]
  },
  {
   "cell_type": "markdown",
   "metadata": {},
   "source": [
    "Vowel ratio is useful for separating English vs (French or Italian).\n",
    "\n",
    "Vowel ratio alone cannot fully separate French and Italian — but that’s okay, your 2nd-order Markov model already does that well."
   ]
  },
  {
   "cell_type": "code",
   "execution_count": 58,
   "metadata": {},
   "outputs": [],
   "source": [
    "def guess_language(s):\n",
    "    \"\"\"\n",
    "    Guesses the language of the input string `s` using a combination of:\n",
    "    - 2nd-order Markov model\n",
    "    - vowel ratio feature\n",
    "    - typical 3-letter n-gram feature\n",
    "    - bonus for typical Italian and French hints\n",
    "    \"\"\"\n",
    "    s_clean = clean_sample(s)  # Proper cleaning\n",
    "\n",
    "    words = s_clean.split()\n",
    "\n",
    "    # Initialize boosts\n",
    "    italian_boost = 0.0\n",
    "    french_boost = 0.0\n",
    "\n",
    "    # Italian boosts\n",
    "    if s_clean.endswith(('are', 'ere', 'ire')):\n",
    "        italian_boost += 1.0\n",
    "\n",
    "    italian_common_words = {'ciao', 'come', 'bene', 'sono', 'andare', 'parlare', 'avere'}\n",
    "    for word in words:\n",
    "        if word in italian_common_words:\n",
    "            italian_boost += 1.5\n",
    "\n",
    "    # French boosts\n",
    "    if s_clean.endswith(('ion', 'ment', 'isme', 'able', 'iste')):\n",
    "        french_boost += 1.0\n",
    "\n",
    "    french_common_words = {'bonjour', 'comment', 'fleur', 'monde', 'amour', 'beaucoup', 'toujours'}\n",
    "    for word in words:\n",
    "        if word in french_common_words:\n",
    "            french_boost += 1.5\n",
    "\n",
    "    ints = string2ints(s_clean)\n",
    "\n",
    "    # 2nd-order Markov log-likelihoods\n",
    "    english_loglik = loglik_2nd_order(ints, english_model)\n",
    "    french_loglik = loglik_2nd_order(ints, french_model)\n",
    "    italian_loglik = loglik_2nd_order(ints, italian_model)\n",
    "\n",
    "    # Vowel ratio scoring\n",
    "    vr = compute_avg_vowel_ratio(s_clean)\n",
    "    avg_vowel_ratios = {\n",
    "        'english': 0.313,\n",
    "        'french': 0.383,\n",
    "        'italian': 0.384\n",
    "    }\n",
    "    vowel_scores = {\n",
    "        lang: -abs(vr - avg_vowel_ratios[lang])\n",
    "        for lang in ['english', 'french', 'italian']\n",
    "    }\n",
    "\n",
    "    # N-gram scoring\n",
    "    ngram_scores = ngram_score(s_clean, typical_ngrams)\n",
    "\n",
    "    # Combine scores\n",
    "    combined_scores = {\n",
    "        'english': english_loglik + 3.0 * vowel_scores['english'] + 1.0 * ngram_scores['english'],\n",
    "        'french': french_loglik + 3.0 * vowel_scores['french'] + 1.0 * ngram_scores['french'] + french_boost,\n",
    "        'italian': italian_loglik + 3.0 * vowel_scores['italian'] + 2.0 * ngram_scores['italian'] + italian_boost\n",
    "    }\n",
    "\n",
    "    return max(combined_scores, key=combined_scores.get)\n"
   ]
  },
  {
   "cell_type": "code",
   "execution_count": 59,
   "metadata": {},
   "outputs": [],
   "source": [
    "def performance_monte_carlo(template, expected_language):\n",
    "    \"\"\"\n",
    "    Performs a Monte Carlo simulation to evaluate the performance of the guess_language classifier\n",
    "    at different message lengths.\n",
    "    \n",
    "    Parameters:\n",
    "    ----------\n",
    "    template : str\n",
    "        The string to use as the basis for generating random substrings.\n",
    "    expected_language : str\n",
    "        The actual language of the `template` string (for performance evaluation).\n",
    "    \"\"\"\n",
    "    X = []  # List to store the different lengths of substrings\n",
    "    Y = []  # List to store the corresponding performance for each length\n",
    "\n",
    "    # Loop through all lengths from 5 to 40\n",
    "    for l in range(5, 41):\n",
    "        correct_count = 0\n",
    "        \n",
    "        # Generate 1000 random substrings of length l\n",
    "        for _ in range(1000):\n",
    "            random_substring = extract_with_length(template, l)\n",
    "            \n",
    "            # Classify the random substring\n",
    "            predicted_language = guess_language(random_substring)\n",
    "            \n",
    "            # Check if the classifier was correct\n",
    "            if predicted_language == expected_language:\n",
    "                correct_count += 1\n",
    "        \n",
    "        # Calculate the accuracy (performance) for this length\n",
    "        performance = correct_count / 1000\n",
    "        X.append(l)\n",
    "        Y.append(performance)\n",
    "    \n",
    "    # Plot the results as a line plot\n",
    "    plt.plot(X, Y)\n",
    "    plt.xlabel('Message Length (l)')\n",
    "    plt.ylabel('Performance (Accuracy)')\n",
    "    plt.title('Performance of Classifier with Varying Message Length')\n",
    "    plt.grid(True)\n",
    "    plt.show()\n"
   ]
  },
  {
   "cell_type": "code",
   "execution_count": 60,
   "metadata": {},
   "outputs": [
    {
     "data": {
      "image/png": "[encoded data removed]",
      "text/plain": [
       "<Figure size 640x480 with 1 Axes>"
      ]
     },
     "metadata": {},
     "output_type": "display_data"
    }
   ],
   "source": [
    "performance_monte_carlo(clean_sample('''\n",
    "L’automne débute fin septembre. Durant cette saison, les feuilles des arbres tombent et couvrent le sol d’un tapis brun, rouge et jaune. Le temps devient de plus en plus frais, il commence à y avoir de la pluie et du vent. C’est le moment de sortir son manteau et son parapluie ! L’automne est aussi la saison des récoltes : on ramasse le maïs, le tournesol, les pommes, le raisin…\n",
    " l’été arrive à la fin du mois de juin. C’est la saison la plus chaude, pendant laquelle on recommence à mettre ses lunettes de soleil et à aller se promener sur la plage. C’est aussi le moment idéal pour profiter de l’eau et aller nager à la mer ou à la piscine.\n",
    "'''), 'french')"
   ]
  },
  {
   "cell_type": "code",
   "execution_count": 61,
   "metadata": {},
   "outputs": [
    {
     "data": {
      "image/png": "[encoded data removed]",
      "text/plain": [
       "<Figure size 640x480 with 1 Axes>"
      ]
     },
     "metadata": {},
     "output_type": "display_data"
    }
   ],
   "source": [
    "performance_monte_carlo(clean_sample('''\n",
    "La mia casa II\n",
    "Io e la mia famiglia abitiamo in una grande casa poco distante dal centro ma immersa nel verde.\n",
    "\n",
    "E' luminosa, spaziosa e, nelle vicinanze, c'è un bellissimo parco dove poter passeggiare. La mia casa è composta da due piani e ha un grande giardino.\n",
    "\n",
    "Al piano terra c'è l'ingresso, la cucina, la sala da pranzo e un bagno. Al primo piano, invece, ci sono tre camere da letto e due bagni.\n",
    "\n",
    "In una camera da letto ci sono i miei genitori, la loro stanza è la più grande di tutta la casa! Io condivido la stanza con mia sorella mentre, mio fratello maggiore, ha una stanza più grande tutta per sé!\n",
    "\n",
    "La mia stanza è davvero bellissima! Ha un grande balcone che affaccia sul giardino e, se si guarda bene all'orizzonte durante le giornate più serene, è possibile anche vedere il mare! Adoro la mia casa!\n",
    "'''), 'italian')"
   ]
  },
  {
   "cell_type": "markdown",
   "metadata": {},
   "source": [
    "# What is language in biology?"
   ]
  },
  {
   "cell_type": "markdown",
   "metadata": {},
   "source": [
    "DNA = alphabet {A, C, G, T}\n",
    "\n",
    "Proteins = alphabet of amino acids (20 letters)\n",
    "\n",
    "RNA = alphabet {A, C, G, U}"
   ]
  },
  {
   "cell_type": "markdown",
   "metadata": {},
   "source": [
    "# **Biological question 1 :** Can I classify short biological sequences (DNA, RNA, protein fragments) based on their origin or function using only Markov models?"
   ]
  },
  {
   "cell_type": "markdown",
   "metadata": {},
   "source": [
    "DNA vs RNA Sequence Classification Using 2nd-Order Markov Models"
   ]
  },
  {
   "cell_type": "markdown",
   "metadata": {},
   "source": [
    "## Sample data"
   ]
  },
  {
   "cell_type": "code",
   "execution_count": 62,
   "metadata": {},
   "outputs": [],
   "source": [
    "# Example sequences\n",
    "dna_sample = \"\"\"\n",
    "ATGCGTACGTAGCTAGCTAGCGATCGATGCTAGCTAGCTGATCGTAGCTAGCTAGCTAGCTAGCTAGC\n",
    "GATCGATCGTAGCTAGCTGATCGTAGCTAGCTGATCGTAGCTAGCTAGCTAGCTAGCTAGCATCGATC\n",
    "\"\"\"\n",
    "\n",
    "rna_sample = \"\"\"\n",
    "AUGCGUACGUAGCUAGCUAGCGAUCGAUGCUAGCUAGCUGAUC GUAGCUAGCUAGCUAGCUAGCG\n",
    "AUCGAUC G UAGCUAGCUGAUC G UAGCUAGCUGAUC G UAGCUAGCUAGCUAGCUAGC\n",
    "\"\"\""
   ]
  },
  {
   "cell_type": "markdown",
   "metadata": {},
   "source": [
    "## Define alphabet and cleaning function"
   ]
  },
  {
   "cell_type": "code",
   "execution_count": 63,
   "metadata": {},
   "outputs": [],
   "source": [
    "def clean_sequence(s, is_rna=False):\n",
    "    \"\"\"\n",
    "    Clean a DNA or RNA sequence:\n",
    "    - Uppercase\n",
    "    - Keep only ACGT (for DNA) or ACUG (for RNA)\n",
    "    \"\"\"\n",
    "    s = s.upper()\n",
    "    allowed = set('ACGT') if not is_rna else set('ACGU')\n",
    "    return ''.join(c for c in s if c in allowed)"
   ]
  },
  {
   "cell_type": "markdown",
   "metadata": {},
   "source": [
    "## Mapping letters2integers"
   ]
  },
  {
   "cell_type": "code",
   "execution_count": 64,
   "metadata": {},
   "outputs": [],
   "source": [
    "def letters2int(alphabet):\n",
    "    return {c: i for i, c in enumerate(alphabet)}\n",
    "\n",
    "def string2ints(s, char2int):\n",
    "    return [char2int[c] for c in s if c in char2int]"
   ]
  },
  {
   "cell_type": "markdown",
   "metadata": {},
   "source": [
    "## Estimate 2th_order Markov Model"
   ]
  },
  {
   "cell_type": "code",
   "execution_count": 65,
   "metadata": {},
   "outputs": [],
   "source": [
    "def estimate_markov_2(s, alphabet):\n",
    "    \"\"\"\n",
    "    Estimate the 2nd-order Markov transition tensor for DNA or RNA\n",
    "    \"\"\"\n",
    "    char2int = letters2int(alphabet)\n",
    "    idxs = string2ints(s, char2int)\n",
    "    n = len(alphabet)\n",
    "\n",
    "    freq = np.zeros((n, n, n), dtype=float)\n",
    "    for i in range(len(idxs) - 2):\n",
    "        prev1 = idxs[i]\n",
    "        prev2 = idxs[i+1]\n",
    "        curr = idxs[i+2]\n",
    "        freq[prev1, prev2, curr] += 1\n",
    "\n",
    "    freq += 0.001  # Laplace smoothing\n",
    "    row_sums = freq.sum(axis=2, keepdims=True)\n",
    "    m = np.divide(freq, row_sums, where=row_sums != 0)\n",
    "    m[np.isnan(m)] = 0.0\n",
    "\n",
    "    return m\n"
   ]
  },
  {
   "cell_type": "markdown",
   "metadata": {},
   "source": [
    "## Loglik function"
   ]
  },
  {
   "cell_type": "code",
   "execution_count": 66,
   "metadata": {},
   "outputs": [],
   "source": [
    "def loglik_2nd_order(ints, m):\n",
    "    \"\"\"\n",
    "    Compute log-likelihood of a sequence under a 2nd-order Markov model\n",
    "    \"\"\"\n",
    "    if len(ints) < 3:\n",
    "        return float('-inf')\n",
    "    log_sum = 0.0\n",
    "    for i in range(len(ints) - 2):\n",
    "        prev1 = ints[i]\n",
    "        prev2 = ints[i + 1]\n",
    "        curr = ints[i + 2]\n",
    "        prob = m[prev1][prev2][curr]\n",
    "        if prob == 0.0:\n",
    "            return float('-inf')\n",
    "        log_sum += math.log(prob)\n",
    "    return log_sum"
   ]
  },
  {
   "cell_type": "markdown",
   "metadata": {},
   "source": [
    "## Training the model"
   ]
  },
  {
   "cell_type": "code",
   "execution_count": 67,
   "metadata": {},
   "outputs": [],
   "source": [
    "alphabet_dna = \"ACGT\"\n",
    "alphabet_rna = \"ACGU\"\n",
    "\n",
    "# Clean samples\n",
    "dna_clean = clean_sequence(dna_sample, is_rna=False)\n",
    "rna_clean = clean_sequence(rna_sample, is_rna=True)\n",
    "\n",
    "# Train models\n",
    "dna_model = estimate_markov_2(dna_clean, alphabet_dna)\n",
    "rna_model = estimate_markov_2(rna_clean, alphabet_rna)\n"
   ]
  },
  {
   "cell_type": "markdown",
   "metadata": {},
   "source": [
    "## Guess sequence function"
   ]
  },
  {
   "cell_type": "code",
   "execution_count": 68,
   "metadata": {},
   "outputs": [],
   "source": [
    "def guess_sequence_type(s):\n",
    "    \"\"\"\n",
    "    Guess whether a sequence is DNA, RNA, or Unknown\n",
    "    based on U/T content and Markov model likelihoods.\n",
    "    \"\"\"\n",
    "    s = s.upper()\n",
    "    length = len(s)\n",
    "\n",
    "    u_count = s.count('U')\n",
    "    t_count = s.count('T')\n",
    "\n",
    "    # Heuristic thresholds\n",
    "    min_u_ratio_for_rna = 0.05  # 5% U content for RNA\n",
    "    min_t_ratio_for_dna = 0.05  # 5% T content for DNA\n",
    "\n",
    "    # Priority logic\n",
    "    if u_count > 0 and t_count == 0:\n",
    "        return 'RNA'\n",
    "    if t_count > 0 and u_count == 0:\n",
    "        return 'DNA'\n",
    "\n",
    "    # If no clear U or T dominance\n",
    "    if length < 10:\n",
    "        return 'UNKNOWN'  # Too short, no clear U/T clue\n",
    "\n",
    "    u_ratio = u_count / length\n",
    "    t_ratio = t_count / length\n",
    "\n",
    "    if u_ratio >= min_u_ratio_for_rna and t_ratio < 0.02:\n",
    "        return 'RNA'\n",
    "    elif t_ratio >= min_t_ratio_for_dna and u_ratio < 0.02:\n",
    "        return 'DNA'\n",
    "    else:\n",
    "        # Ambiguous case: use Markov models\n",
    "        alphabet_dna = \"ACGT\"\n",
    "        alphabet_rna = \"ACGU\"\n",
    "\n",
    "        char2int_dna = letters2int(alphabet_dna)\n",
    "        char2int_rna = letters2int(alphabet_rna)\n",
    "\n",
    "        ints_dna = string2ints(s, char2int_dna)\n",
    "        ints_rna = string2ints(s, char2int_rna)\n",
    "\n",
    "        dna_score = loglik_2nd_order(ints_dna, dna_model)\n",
    "        rna_score = loglik_2nd_order(ints_rna, rna_model)\n",
    "\n",
    "        if dna_score > rna_score:\n",
    "            return 'DNA'\n",
    "        elif rna_score > dna_score:\n",
    "            return 'RNA'\n",
    "        else:\n",
    "            return 'UNKNOWN'"
   ]
  },
  {
   "cell_type": "markdown",
   "metadata": {},
   "source": [
    "## Test"
   ]
  },
  {
   "cell_type": "code",
   "execution_count": 69,
   "metadata": {},
   "outputs": [
    {
     "name": "stdout",
     "output_type": "stream",
     "text": [
      "DNA\n",
      "RNA\n"
     ]
    }
   ],
   "source": [
    "print(guess_sequence_type('ATGCGAAAAAAA'))  # Should be DNA\n",
    "print(guess_sequence_type('AUGCGA'))  # Should be RNA"
   ]
  },
  {
   "cell_type": "markdown",
   "metadata": {},
   "source": [
    "# **Biological question 2:** Can I predict whether a small RNA sequence fragment belongs to a coding RNA (mRNA) or a non-coding RNA (e.g., lncRNA) using simple machine learning methods?"
   ]
  },
  {
   "cell_type": "markdown",
   "metadata": {},
   "source": [
    "## Sample data -> the real sample"
   ]
  },
  {
   "cell_type": "code",
   "execution_count": null,
   "metadata": {},
   "outputs": [
    {
     "name": "stdout",
     "output_type": "stream",
     "text": [
      "Conversion complete. Output saved to: C:\\Users\\Atefe\\Desktop\\School\\systems biology\\inputdata\\converted_lncrna.fa\n"
     ]
    }
   ],
   "source": [
    "# from Bio import SeqIO\n",
    "# import gzip\n",
    "\n",
    "# # Input and output paths\n",
    "# input_path = \"C:\\\\Users\\\\Atefe\\\\Desktop\\\\School\\\\systems biology\\\\inputdata\\\\gencode.v48.lncRNA_transcripts.fa.gz\"\n",
    "# output_path = \"C:\\\\Users\\\\Atefe\\\\Desktop\\\\School\\\\systems biology\\\\inputdata\\\\converted_lncrna.fa\"\n",
    "\n",
    "# # Convert DNA to RNA by replacing 'T' with 'U'\n",
    "# with gzip.open(input_path, \"rt\") as in_handle, open(output_path, \"w\") as out_handle:\n",
    "#     for record in SeqIO.parse(in_handle, \"fasta\"):\n",
    "#         record.seq = record.seq.transcribe()  # Converts DNA to RNA\n",
    "#         SeqIO.write(record, out_handle, \"fasta\")\n",
    "\n",
    "# print(\"Conversion complete. Output saved to:\", output_path)\n"
   ]
  },
  {
   "cell_type": "code",
   "execution_count": null,
   "metadata": {},
   "outputs": [
    {
     "name": "stdout",
     "output_type": "stream",
     "text": [
      "Conversion complete. Output saved to: C:\\Users\\Atefe\\Desktop\\School\\systems biology\\inputdata\\converted_mrna.fa\n"
     ]
    }
   ],
   "source": [
    "# # Input and output paths\n",
    "# input_path = \"C:\\\\Users\\\\Atefe\\\\Desktop\\\\School\\\\systems biology\\\\inputdata\\\\gencode.v48.pc_transcripts.fa.gz\"\n",
    "# output_path = \"C:\\\\Users\\\\Atefe\\\\Desktop\\\\School\\\\systems biology\\\\inputdata\\\\converted_mrna.fa\"\n",
    "\n",
    "# # Convert DNA to RNA by replacing 'T' with 'U'\n",
    "# with gzip.open(input_path, \"rt\") as in_handle, open(output_path, \"w\") as out_handle:\n",
    "#     for record in SeqIO.parse(in_handle, \"fasta\"):\n",
    "#         record.seq = record.seq.transcribe()  # Converts DNA to RNA\n",
    "#         SeqIO.write(record, out_handle, \"fasta\")\n",
    "\n",
    "# print(\"Conversion complete. Output saved to:\", output_path)"
   ]
  },
  {
   "cell_type": "code",
   "execution_count": 142,
   "metadata": {},
   "outputs": [],
   "source": [
    "#%pip install biopython\n",
    "from Bio import SeqIO\n",
    "def dna_to_rna(dna_seq):\n",
    "    return dna_seq.upper().replace('T', 'U')\n",
    "\n",
    "# Load DNA sequences\n",
    "def load_sequences_from_fasta(path, limit=None):\n",
    "    sequences = []\n",
    "    for i, record in enumerate(SeqIO.parse(path, \"fasta\")):\n",
    "        if limit and i >= limit:\n",
    "            break\n",
    "        dna_seq = str(record.seq).upper()\n",
    "        rna_seq = dna_to_rna(dna_seq)   # convert DNA to RNA here\n",
    "        sequences.append(rna_seq)\n",
    "    return sequences\n",
    "\n",
    "# Example usage\n",
    "mRNA_samples = load_sequences_from_fasta(\"C:\\\\Users\\\\Atefe\\\\Desktop\\\\School\\\\systems biology\\\\inputdata\\\\converted_mrna.fa\")\n",
    "lncRNA_samples = load_sequences_from_fasta(\"C:\\\\Users\\\\Atefe\\\\Desktop\\\\School\\\\systems biology\\\\inputdata\\\\converted_lncrna.fa\")\n"
   ]
  },
  {
   "cell_type": "markdown",
   "metadata": {},
   "source": [
    "## Feature engineering:"
   ]
  },
  {
   "cell_type": "markdown",
   "metadata": {},
   "source": [
    "\"How do you turn biological sequences into numbers that an ML model can understand?\"\n",
    "\n",
    "Sequences are letters (A, U, G, C) → Machine Learning needs vectors of numbers."
   ]
  },
  {
   "cell_type": "markdown",
   "metadata": {},
   "source": [
    "| Feature           | Meaning                                                       |\n",
    "| :---------------- | :------------------------------------------------------------ |\n",
    "| GC Content        | % of G and C bases                                            |\n",
    "| Sequence Length   | Obvious property                                              |\n",
    "| 3-mer frequencies | How often each possible triplet (AAA, AAU, AAG, etc.) appears |\n"
   ]
  },
  {
   "cell_type": "code",
   "execution_count": 143,
   "metadata": {},
   "outputs": [],
   "source": [
    "def longest_orf_length(seq):\n",
    "    stop_codons = {'UAA', 'UAG', 'UGA'}\n",
    "    seq = seq.upper()\n",
    "    max_orf_len = 0\n",
    "    for frame in range(3):\n",
    "        start = -1\n",
    "        for i in range(frame, len(seq) - 2, 3):\n",
    "            codon = seq[i:i + 3]\n",
    "            if codon == 'AUG' and start == -1:\n",
    "                start = i\n",
    "            elif codon in stop_codons and start != -1:\n",
    "                orf_len = i + 3 - start\n",
    "                if orf_len > max_orf_len:\n",
    "                    max_orf_len = orf_len\n",
    "                start = -1\n",
    "        # Check if ORF extends to end\n",
    "        if start != -1:\n",
    "            orf_len = len(seq) - start\n",
    "            if orf_len > max_orf_len:\n",
    "                max_orf_len = orf_len\n",
    "    return max_orf_len\n"
   ]
  },
  {
   "cell_type": "code",
   "execution_count": 144,
   "metadata": {},
   "outputs": [],
   "source": [
    "def extract_features(seq):\n",
    "    seq = seq.upper()\n",
    "    features = {}\n",
    "\n",
    "    # GC content\n",
    "    g = seq.count('G')\n",
    "    c = seq.count('C')\n",
    "    gc_content = (g + c) / len(seq)\n",
    "    features['gc_content'] = gc_content\n",
    "\n",
    "    # ORF-based features\n",
    "    features['starts_with_AUG'] = int(seq.startswith('AUG'))\n",
    "    features['ends_with_STOP'] = int(seq.endswith('UAA') or seq.endswith('UAG') or seq.endswith('UGA'))\n",
    "    features['longest_orf_len'] = longest_orf_length(seq)\n",
    "\n",
    "    # Length\n",
    "    features['length'] = len(seq)\n",
    "\n",
    "    # k-mer (k=3 and k=4) counts\n",
    "    for k in [3, 4]:\n",
    "        kmer_counts = Counter([seq[i:i+k] for i in range(len(seq)-k+1)])\n",
    "        total_kmers = sum(kmer_counts.values())\n",
    "        for kmer, count in kmer_counts.items():\n",
    "            features[f'kmer_{kmer}'] = count / total_kmers  # normalize\n",
    "\n",
    "    return features\n"
   ]
  },
  {
   "cell_type": "markdown",
   "metadata": {},
   "source": [
    "## Build Dataset (X, y)"
   ]
  },
  {
   "cell_type": "markdown",
   "metadata": {},
   "source": [
    "**Supervised Learning Setup**:\n",
    "\n",
    "X = list of feature vectors (inputs) → numerical arrays.\n",
    "\n",
    "y = list of labels (outputs) → 0 for lncRNA, 1 for mRNA."
   ]
  },
  {
   "cell_type": "markdown",
   "metadata": {},
   "source": [
    "These models are trained with fit(X, y) in one shot — they do not require epochs or batches explicitly.\n",
    "\n",
    "The model's internal optimization runs until convergence or max iterations (like max_iter in logistic regression), but batch processing is handled internally or not relevant.\n",
    "\n"
   ]
  },
  {
   "cell_type": "code",
   "execution_count": 147,
   "metadata": {},
   "outputs": [],
   "source": [
    "mRNA_samples = mRNA_samples[:3000]\n",
    "lncRNA_samples = lncRNA_samples[:3000]\n"
   ]
  },
  {
   "cell_type": "code",
   "execution_count": 148,
   "metadata": {},
   "outputs": [
    {
     "name": "stderr",
     "output_type": "stream",
     "text": [
      "100%|██████████| 3000/3000 [00:04<00:00, 696.32it/s]\n",
      "100%|██████████| 3000/3000 [00:02<00:00, 1485.60it/s]\n"
     ]
    }
   ],
   "source": [
    "import pandas as pd\n",
    "from tqdm import tqdm\n",
    "from sklearn.feature_extraction import DictVectorizer\n",
    "from collections import Counter\n",
    "\n",
    "X = []\n",
    "y = []\n",
    "\n",
    "# mRNA = label 1\n",
    "for seq in tqdm(mRNA_samples):\n",
    "    features = extract_features(seq)\n",
    "    X.append(features)\n",
    "    y.append(1)\n",
    "\n",
    "# lncRNA = label 0\n",
    "for seq in tqdm(lncRNA_samples):\n",
    "    features = extract_features(seq)\n",
    "    X.append(features)\n",
    "    y.append(0)\n",
    "\n",
    "# # Turn into DataFrame\n",
    "# X_df = pd.DataFrame(X)\n",
    "# X_df = X_df.fillna(0)  # Fill missing k-mers with 0\n",
    "# Convert to sparse matrix\n",
    "vec = DictVectorizer(sparse=True)\n",
    "X_sparse = vec.fit_transform(X)\n"
   ]
  },
  {
   "cell_type": "markdown",
   "metadata": {},
   "source": [
    "## Train a Logistic Regression Model"
   ]
  },
  {
   "cell_type": "markdown",
   "metadata": {},
   "source": [
    "It is a linear model for binary classification\n",
    "\n",
    "Assumes a linear boundry between classes and limitted for non-linear data\n"
   ]
  },
  {
   "cell_type": "code",
   "execution_count": 149,
   "metadata": {},
   "outputs": [
    {
     "data": {
      "text/html": [
       "<style>#sk-container-id-2 {\n",
       "  /* Definition of color scheme common for light and dark mode */\n",
       "  --sklearn-color-text: #000;\n",
       "  --sklearn-color-text-muted: #666;\n",
       "  --sklearn-color-line: gray;\n",
       "  /* Definition of color scheme for unfitted estimators */\n",
       "  --sklearn-color-unfitted-level-0: #fff5e6;\n",
       "  --sklearn-color-unfitted-level-1: #f6e4d2;\n",
       "  --sklearn-color-unfitted-level-2: #ffe0b3;\n",
       "  --sklearn-color-unfitted-level-3: chocolate;\n",
       "  /* Definition of color scheme for fitted estimators */\n",
       "  --sklearn-color-fitted-level-0: #f0f8ff;\n",
       "  --sklearn-color-fitted-level-1: #d4ebff;\n",
       "  --sklearn-color-fitted-level-2: #b3dbfd;\n",
       "  --sklearn-color-fitted-level-3: cornflowerblue;\n",
       "\n",
       "  /* Specific color for light theme */\n",
       "  --sklearn-color-text-on-default-background: var(--sg-text-color, var(--theme-code-foreground, var(--jp-content-font-color1, black)));\n",
       "  --sklearn-color-background: var(--sg-background-color, var(--theme-background, var(--jp-layout-color0, white)));\n",
       "  --sklearn-color-border-box: var(--sg-text-color, var(--theme-code-foreground, var(--jp-content-font-color1, black)));\n",
       "  --sklearn-color-icon: #696969;\n",
       "\n",
       "  @media (prefers-color-scheme: dark) {\n",
       "    /* Redefinition of color scheme for dark theme */\n",
       "    --sklearn-color-text-on-default-background: var(--sg-text-color, var(--theme-code-foreground, var(--jp-content-font-color1, white)));\n",
       "    --sklearn-color-background: var(--sg-background-color, var(--theme-background, var(--jp-layout-color0, #111)));\n",
       "    --sklearn-color-border-box: var(--sg-text-color, var(--theme-code-foreground, var(--jp-content-font-color1, white)));\n",
       "    --sklearn-color-icon: #878787;\n",
       "  }\n",
       "}\n",
       "\n",
       "#sk-container-id-2 {\n",
       "  color: var(--sklearn-color-text);\n",
       "}\n",
       "\n",
       "#sk-container-id-2 pre {\n",
       "  padding: 0;\n",
       "}\n",
       "\n",
       "#sk-container-id-2 input.sk-hidden--visually {\n",
       "  border: 0;\n",
       "  clip: rect(1px 1px 1px 1px);\n",
       "  clip: rect(1px, 1px, 1px, 1px);\n",
       "  height: 1px;\n",
       "  margin: -1px;\n",
       "  overflow: hidden;\n",
       "  padding: 0;\n",
       "  position: absolute;\n",
       "  width: 1px;\n",
       "}\n",
       "\n",
       "#sk-container-id-2 div.sk-dashed-wrapped {\n",
       "  border: 1px dashed var(--sklearn-color-line);\n",
       "  margin: 0 0.4em 0.5em 0.4em;\n",
       "  box-sizing: border-box;\n",
       "  padding-bottom: 0.4em;\n",
       "  background-color: var(--sklearn-color-background);\n",
       "}\n",
       "\n",
       "#sk-container-id-2 div.sk-container {\n",
       "  /* jupyter's `normalize.less` sets `[hidden] { display: none; }`\n",
       "     but bootstrap.min.css set `[hidden] { display: none !important; }`\n",
       "     so we also need the `!important` here to be able to override the\n",
       "     default hidden behavior on the sphinx rendered scikit-learn.org.\n",
       "     See: https://github.com/scikit-learn/scikit-learn/issues/21755 */\n",
       "  display: inline-block !important;\n",
       "  position: relative;\n",
       "}\n",
       "\n",
       "#sk-container-id-2 div.sk-text-repr-fallback {\n",
       "  display: none;\n",
       "}\n",
       "\n",
       "div.sk-parallel-item,\n",
       "div.sk-serial,\n",
       "div.sk-item {\n",
       "  /* draw centered vertical line to link estimators */\n",
       "  background-image: linear-gradient(var(--sklearn-color-text-on-default-background), var(--sklearn-color-text-on-default-background));\n",
       "  background-size: 2px 100%;\n",
       "  background-repeat: no-repeat;\n",
       "  background-position: center center;\n",
       "}\n",
       "\n",
       "/* Parallel-specific style estimator block */\n",
       "\n",
       "#sk-container-id-2 div.sk-parallel-item::after {\n",
       "  content: \"\";\n",
       "  width: 100%;\n",
       "  border-bottom: 2px solid var(--sklearn-color-text-on-default-background);\n",
       "  flex-grow: 1;\n",
       "}\n",
       "\n",
       "#sk-container-id-2 div.sk-parallel {\n",
       "  display: flex;\n",
       "  align-items: stretch;\n",
       "  justify-content: center;\n",
       "  background-color: var(--sklearn-color-background);\n",
       "  position: relative;\n",
       "}\n",
       "\n",
       "#sk-container-id-2 div.sk-parallel-item {\n",
       "  display: flex;\n",
       "  flex-direction: column;\n",
       "}\n",
       "\n",
       "#sk-container-id-2 div.sk-parallel-item:first-child::after {\n",
       "  align-self: flex-end;\n",
       "  width: 50%;\n",
       "}\n",
       "\n",
       "#sk-container-id-2 div.sk-parallel-item:last-child::after {\n",
       "  align-self: flex-start;\n",
       "  width: 50%;\n",
       "}\n",
       "\n",
       "#sk-container-id-2 div.sk-parallel-item:only-child::after {\n",
       "  width: 0;\n",
       "}\n",
       "\n",
       "/* Serial-specific style estimator block */\n",
       "\n",
       "#sk-container-id-2 div.sk-serial {\n",
       "  display: flex;\n",
       "  flex-direction: column;\n",
       "  align-items: center;\n",
       "  background-color: var(--sklearn-color-background);\n",
       "  padding-right: 1em;\n",
       "  padding-left: 1em;\n",
       "}\n",
       "\n",
       "\n",
       "/* Toggleable style: style used for estimator/Pipeline/ColumnTransformer box that is\n",
       "clickable and can be expanded/collapsed.\n",
       "- Pipeline and ColumnTransformer use this feature and define the default style\n",
       "- Estimators will overwrite some part of the style using the `sk-estimator` class\n",
       "*/\n",
       "\n",
       "/* Pipeline and ColumnTransformer style (default) */\n",
       "\n",
       "#sk-container-id-2 div.sk-toggleable {\n",
       "  /* Default theme specific background. It is overwritten whether we have a\n",
       "  specific estimator or a Pipeline/ColumnTransformer */\n",
       "  background-color: var(--sklearn-color-background);\n",
       "}\n",
       "\n",
       "/* Toggleable label */\n",
       "#sk-container-id-2 label.sk-toggleable__label {\n",
       "  cursor: pointer;\n",
       "  display: flex;\n",
       "  width: 100%;\n",
       "  margin-bottom: 0;\n",
       "  padding: 0.5em;\n",
       "  box-sizing: border-box;\n",
       "  text-align: center;\n",
       "  align-items: start;\n",
       "  justify-content: space-between;\n",
       "  gap: 0.5em;\n",
       "}\n",
       "\n",
       "#sk-container-id-2 label.sk-toggleable__label .caption {\n",
       "  font-size: 0.6rem;\n",
       "  font-weight: lighter;\n",
       "  color: var(--sklearn-color-text-muted);\n",
       "}\n",
       "\n",
       "#sk-container-id-2 label.sk-toggleable__label-arrow:before {\n",
       "  /* Arrow on the left of the label */\n",
       "  content: \"▸\";\n",
       "  float: left;\n",
       "  margin-right: 0.25em;\n",
       "  color: var(--sklearn-color-icon);\n",
       "}\n",
       "\n",
       "#sk-container-id-2 label.sk-toggleable__label-arrow:hover:before {\n",
       "  color: var(--sklearn-color-text);\n",
       "}\n",
       "\n",
       "/* Toggleable content - dropdown */\n",
       "\n",
       "#sk-container-id-2 div.sk-toggleable__content {\n",
       "  max-height: 0;\n",
       "  max-width: 0;\n",
       "  overflow: hidden;\n",
       "  text-align: left;\n",
       "  /* unfitted */\n",
       "  background-color: var(--sklearn-color-unfitted-level-0);\n",
       "}\n",
       "\n",
       "#sk-container-id-2 div.sk-toggleable__content.fitted {\n",
       "  /* fitted */\n",
       "  background-color: var(--sklearn-color-fitted-level-0);\n",
       "}\n",
       "\n",
       "#sk-container-id-2 div.sk-toggleable__content pre {\n",
       "  margin: 0.2em;\n",
       "  border-radius: 0.25em;\n",
       "  color: var(--sklearn-color-text);\n",
       "  /* unfitted */\n",
       "  background-color: var(--sklearn-color-unfitted-level-0);\n",
       "}\n",
       "\n",
       "#sk-container-id-2 div.sk-toggleable__content.fitted pre {\n",
       "  /* unfitted */\n",
       "  background-color: var(--sklearn-color-fitted-level-0);\n",
       "}\n",
       "\n",
       "#sk-container-id-2 input.sk-toggleable__control:checked~div.sk-toggleable__content {\n",
       "  /* Expand drop-down */\n",
       "  max-height: 200px;\n",
       "  max-width: 100%;\n",
       "  overflow: auto;\n",
       "}\n",
       "\n",
       "#sk-container-id-2 input.sk-toggleable__control:checked~label.sk-toggleable__label-arrow:before {\n",
       "  content: \"▾\";\n",
       "}\n",
       "\n",
       "/* Pipeline/ColumnTransformer-specific style */\n",
       "\n",
       "#sk-container-id-2 div.sk-label input.sk-toggleable__control:checked~label.sk-toggleable__label {\n",
       "  color: var(--sklearn-color-text);\n",
       "  background-color: var(--sklearn-color-unfitted-level-2);\n",
       "}\n",
       "\n",
       "#sk-container-id-2 div.sk-label.fitted input.sk-toggleable__control:checked~label.sk-toggleable__label {\n",
       "  background-color: var(--sklearn-color-fitted-level-2);\n",
       "}\n",
       "\n",
       "/* Estimator-specific style */\n",
       "\n",
       "/* Colorize estimator box */\n",
       "#sk-container-id-2 div.sk-estimator input.sk-toggleable__control:checked~label.sk-toggleable__label {\n",
       "  /* unfitted */\n",
       "  background-color: var(--sklearn-color-unfitted-level-2);\n",
       "}\n",
       "\n",
       "#sk-container-id-2 div.sk-estimator.fitted input.sk-toggleable__control:checked~label.sk-toggleable__label {\n",
       "  /* fitted */\n",
       "  background-color: var(--sklearn-color-fitted-level-2);\n",
       "}\n",
       "\n",
       "#sk-container-id-2 div.sk-label label.sk-toggleable__label,\n",
       "#sk-container-id-2 div.sk-label label {\n",
       "  /* The background is the default theme color */\n",
       "  color: var(--sklearn-color-text-on-default-background);\n",
       "}\n",
       "\n",
       "/* On hover, darken the color of the background */\n",
       "#sk-container-id-2 div.sk-label:hover label.sk-toggleable__label {\n",
       "  color: var(--sklearn-color-text);\n",
       "  background-color: var(--sklearn-color-unfitted-level-2);\n",
       "}\n",
       "\n",
       "/* Label box, darken color on hover, fitted */\n",
       "#sk-container-id-2 div.sk-label.fitted:hover label.sk-toggleable__label.fitted {\n",
       "  color: var(--sklearn-color-text);\n",
       "  background-color: var(--sklearn-color-fitted-level-2);\n",
       "}\n",
       "\n",
       "/* Estimator label */\n",
       "\n",
       "#sk-container-id-2 div.sk-label label {\n",
       "  font-family: monospace;\n",
       "  font-weight: bold;\n",
       "  display: inline-block;\n",
       "  line-height: 1.2em;\n",
       "}\n",
       "\n",
       "#sk-container-id-2 div.sk-label-container {\n",
       "  text-align: center;\n",
       "}\n",
       "\n",
       "/* Estimator-specific */\n",
       "#sk-container-id-2 div.sk-estimator {\n",
       "  font-family: monospace;\n",
       "  border: 1px dotted var(--sklearn-color-border-box);\n",
       "  border-radius: 0.25em;\n",
       "  box-sizing: border-box;\n",
       "  margin-bottom: 0.5em;\n",
       "  /* unfitted */\n",
       "  background-color: var(--sklearn-color-unfitted-level-0);\n",
       "}\n",
       "\n",
       "#sk-container-id-2 div.sk-estimator.fitted {\n",
       "  /* fitted */\n",
       "  background-color: var(--sklearn-color-fitted-level-0);\n",
       "}\n",
       "\n",
       "/* on hover */\n",
       "#sk-container-id-2 div.sk-estimator:hover {\n",
       "  /* unfitted */\n",
       "  background-color: var(--sklearn-color-unfitted-level-2);\n",
       "}\n",
       "\n",
       "#sk-container-id-2 div.sk-estimator.fitted:hover {\n",
       "  /* fitted */\n",
       "  background-color: var(--sklearn-color-fitted-level-2);\n",
       "}\n",
       "\n",
       "/* Specification for estimator info (e.g. \"i\" and \"?\") */\n",
       "\n",
       "/* Common style for \"i\" and \"?\" */\n",
       "\n",
       ".sk-estimator-doc-link,\n",
       "a:link.sk-estimator-doc-link,\n",
       "a:visited.sk-estimator-doc-link {\n",
       "  float: right;\n",
       "  font-size: smaller;\n",
       "  line-height: 1em;\n",
       "  font-family: monospace;\n",
       "  background-color: var(--sklearn-color-background);\n",
       "  border-radius: 1em;\n",
       "  height: 1em;\n",
       "  width: 1em;\n",
       "  text-decoration: none !important;\n",
       "  margin-left: 0.5em;\n",
       "  text-align: center;\n",
       "  /* unfitted */\n",
       "  border: var(--sklearn-color-unfitted-level-1) 1pt solid;\n",
       "  color: var(--sklearn-color-unfitted-level-1);\n",
       "}\n",
       "\n",
       ".sk-estimator-doc-link.fitted,\n",
       "a:link.sk-estimator-doc-link.fitted,\n",
       "a:visited.sk-estimator-doc-link.fitted {\n",
       "  /* fitted */\n",
       "  border: var(--sklearn-color-fitted-level-1) 1pt solid;\n",
       "  color: var(--sklearn-color-fitted-level-1);\n",
       "}\n",
       "\n",
       "/* On hover */\n",
       "div.sk-estimator:hover .sk-estimator-doc-link:hover,\n",
       ".sk-estimator-doc-link:hover,\n",
       "div.sk-label-container:hover .sk-estimator-doc-link:hover,\n",
       ".sk-estimator-doc-link:hover {\n",
       "  /* unfitted */\n",
       "  background-color: var(--sklearn-color-unfitted-level-3);\n",
       "  color: var(--sklearn-color-background);\n",
       "  text-decoration: none;\n",
       "}\n",
       "\n",
       "div.sk-estimator.fitted:hover .sk-estimator-doc-link.fitted:hover,\n",
       ".sk-estimator-doc-link.fitted:hover,\n",
       "div.sk-label-container:hover .sk-estimator-doc-link.fitted:hover,\n",
       ".sk-estimator-doc-link.fitted:hover {\n",
       "  /* fitted */\n",
       "  background-color: var(--sklearn-color-fitted-level-3);\n",
       "  color: var(--sklearn-color-background);\n",
       "  text-decoration: none;\n",
       "}\n",
       "\n",
       "/* Span, style for the box shown on hovering the info icon */\n",
       ".sk-estimator-doc-link span {\n",
       "  display: none;\n",
       "  z-index: 9999;\n",
       "  position: relative;\n",
       "  font-weight: normal;\n",
       "  right: .2ex;\n",
       "  padding: .5ex;\n",
       "  margin: .5ex;\n",
       "  width: min-content;\n",
       "  min-width: 20ex;\n",
       "  max-width: 50ex;\n",
       "  color: var(--sklearn-color-text);\n",
       "  box-shadow: 2pt 2pt 4pt #999;\n",
       "  /* unfitted */\n",
       "  background: var(--sklearn-color-unfitted-level-0);\n",
       "  border: .5pt solid var(--sklearn-color-unfitted-level-3);\n",
       "}\n",
       "\n",
       ".sk-estimator-doc-link.fitted span {\n",
       "  /* fitted */\n",
       "  background: var(--sklearn-color-fitted-level-0);\n",
       "  border: var(--sklearn-color-fitted-level-3);\n",
       "}\n",
       "\n",
       ".sk-estimator-doc-link:hover span {\n",
       "  display: block;\n",
       "}\n",
       "\n",
       "/* \"?\"-specific style due to the `<a>` HTML tag */\n",
       "\n",
       "#sk-container-id-2 a.estimator_doc_link {\n",
       "  float: right;\n",
       "  font-size: 1rem;\n",
       "  line-height: 1em;\n",
       "  font-family: monospace;\n",
       "  background-color: var(--sklearn-color-background);\n",
       "  border-radius: 1rem;\n",
       "  height: 1rem;\n",
       "  width: 1rem;\n",
       "  text-decoration: none;\n",
       "  /* unfitted */\n",
       "  color: var(--sklearn-color-unfitted-level-1);\n",
       "  border: var(--sklearn-color-unfitted-level-1) 1pt solid;\n",
       "}\n",
       "\n",
       "#sk-container-id-2 a.estimator_doc_link.fitted {\n",
       "  /* fitted */\n",
       "  border: var(--sklearn-color-fitted-level-1) 1pt solid;\n",
       "  color: var(--sklearn-color-fitted-level-1);\n",
       "}\n",
       "\n",
       "/* On hover */\n",
       "#sk-container-id-2 a.estimator_doc_link:hover {\n",
       "  /* unfitted */\n",
       "  background-color: var(--sklearn-color-unfitted-level-3);\n",
       "  color: var(--sklearn-color-background);\n",
       "  text-decoration: none;\n",
       "}\n",
       "\n",
       "#sk-container-id-2 a.estimator_doc_link.fitted:hover {\n",
       "  /* fitted */\n",
       "  background-color: var(--sklearn-color-fitted-level-3);\n",
       "}\n",
       "</style><div id=\"sk-container-id-2\" class=\"sk-top-container\"><div class=\"sk-text-repr-fallback\"><pre>LogisticRegression(max_iter=1000)</pre><b>In a Jupyter environment, please rerun this cell to show the HTML representation or trust the notebook. <br />On GitHub, the HTML representation is unable to render, please try loading this page with nbviewer.org.</b></div><div class=\"sk-container\" hidden><div class=\"sk-item\"><div class=\"sk-estimator fitted sk-toggleable\"><input class=\"sk-toggleable__control sk-hidden--visually\" id=\"sk-estimator-id-2\" type=\"checkbox\" checked><label for=\"sk-estimator-id-2\" class=\"sk-toggleable__label fitted sk-toggleable__label-arrow\"><div><div>LogisticRegression</div></div><div><a class=\"sk-estimator-doc-link fitted\" rel=\"noreferrer\" target=\"_blank\" href=\"https://scikit-learn.org/1.6/modules/generated/sklearn.linear_model.LogisticRegression.html\">?<span>Documentation for LogisticRegression</span></a><span class=\"sk-estimator-doc-link fitted\">i<span>Fitted</span></span></div></label><div class=\"sk-toggleable__content fitted\"><pre>LogisticRegression(max_iter=1000)</pre></div> </div></div></div></div>"
      ],
      "text/plain": [
       "LogisticRegression(max_iter=1000)"
      ]
     },
     "execution_count": 149,
     "metadata": {},
     "output_type": "execute_result"
    }
   ],
   "source": [
    "#%pip install scikit-learn\n",
    "\n",
    "from sklearn.linear_model import LogisticRegression\n",
    "from sklearn.model_selection import train_test_split\n",
    "\n",
    "# Split into train and test sets\n",
    "X_train, X_test, y_train, y_test = train_test_split(X_sparse, y, test_size=0.3, random_state=42)\n",
    "\n",
    "# Train Logistic Regression\n",
    "model = LogisticRegression(max_iter=1000)\n",
    "model.fit(X_train, y_train)\n"
   ]
  },
  {
   "cell_type": "markdown",
   "metadata": {},
   "source": [
    "If your model still scores high after label shuffling → overfit\n",
    "\n",
    "✅ If accuracy drops to ~50% (random) → you're good, model was learning real signal"
   ]
  },
  {
   "cell_type": "markdown",
   "metadata": {},
   "source": [
    "## Evaluate Model"
   ]
  },
  {
   "cell_type": "markdown",
   "metadata": {},
   "source": [
    "**cross validation**"
   ]
  },
  {
   "cell_type": "markdown",
   "metadata": {},
   "source": [
    "Instead of splitting train/test randomly once →\n",
    "Split many times automatically → average results."
   ]
  },
  {
   "cell_type": "code",
   "execution_count": 150,
   "metadata": {},
   "outputs": [
    {
     "name": "stdout",
     "output_type": "stream",
     "text": [
      "Cross-Validation Scores: [0.7475     0.82583333 0.80666667 0.87416667 0.86666667]\n",
      "Average Accuracy: 0.8241666666666667\n"
     ]
    }
   ],
   "source": [
    "from sklearn.model_selection import cross_val_score\n",
    "from sklearn.linear_model import LogisticRegression\n",
    "\n",
    "# Create model\n",
    "model = LogisticRegression(max_iter=1000)\n",
    "\n",
    "# 5-Fold Cross-Validation\n",
    "scores = cross_val_score(model, X_sparse, y, cv=5, scoring='accuracy')\n",
    "\n",
    "print(\"Cross-Validation Scores:\", scores)\n",
    "print(\"Average Accuracy:\", np.mean(scores))\n"
   ]
  },
  {
   "cell_type": "markdown",
   "metadata": {},
   "source": [
    "You did 5-Fold Cross-Validation, so:\n",
    "The dataset was split into 5 chunks (folds)\n",
    "\n",
    "The model was trained 5 times — each time using 4 folds for training, and 1 fold for testing\n",
    "\n",
    "You got 5 accuracy scores — one for each test fold:\n",
    "\n",
    "64%, 57%, 60%, 56.5%, 60.5%\n",
    "\n",
    "Then you took the average: ~59.6%"
   ]
  },
  {
   "cell_type": "markdown",
   "metadata": {},
   "source": [
    "Is confused by overlapping sequences\n",
    "\n",
    "Isn't capturing the real differences between mRNA and lncRNA yet\n",
    "\n"
   ]
  },
  {
   "cell_type": "markdown",
   "metadata": {},
   "source": [
    "# Model usage"
   ]
  },
  {
   "cell_type": "code",
   "execution_count": 152,
   "metadata": {},
   "outputs": [
    {
     "name": "stdout",
     "output_type": "stream",
     "text": [
      "mRNA\n"
     ]
    }
   ],
   "source": [
    "# 1. Your new sequence (mRNA)\n",
    "new_seq = \"CGCUCCAUUUUUUUUCAAGUCGAUUUUAUUUAGAGGCGGCGCCAGGGCGGCCGCGGAGAAACGUGACACACCAGCCCUCUCGGAGGGGUUUCGGACCGAAGGGAAGAAGCUGCGCCGUGUCGUCCGUCUCCCUGCGCGCCGCGGGCACUUCUCCUGGGCUCUCCCCGAACUCUCCCGCGACCUCUGCGCGCCCUCAGGCCGCCUUCCCCGCCCUGGGCUCGGGACAACUUCUGGGGUGGGGUGCAAAGAAAGUUUGCGGCUCCUGCCGCCGGCCUCUCCGCCUCUUGGCCUAGGAGGCUCGCCGCCCGCGCCCGCUCGUUCGGCCUUGCCCGGGACCGCGUCCUGCCCCGAGACCGCCACCAUGAACAAGCUUUACAUCGGCAACCUCAACGAGAGCGUGACCCCCGCGGACUUGGAGAAAGUGUUUGCGGAGCACAAGAUCUCCUACAGCGGCCAGUUCUUGGUCAAAUCCGGCUACGCCUUCGUGGACUGCCCGGACGAGCACUGGGCGAUGAAGGCCAUCGAAACUUUCUCCGGGAAAGUAGAAUUACAAGGAAAACGCUUAGAGAUUGAACAUUCGGUGCCCAAAAAACAAAGGAGCCGGAAAAUUCAAAUCCGAAAUAUUCCACCCCAGCUCCGAUGGGAAGUACUGGACAGCCUGCUGGCUCAGUAUGGUACAGUAGAGAACUGUGAGCAAGUGAACACCGAGAGUGAGACGGCAGUGGUGAAUGUCACCUAUUCCAACCGGGAGCAGACCAGGCAGGCUGACGAGGUUCCCCUGAAGAUCCUGGCCCAUAAUAACUUUGUAGGGCGUCUCAUUGGCAAGGAAGGACGGAACCUGAAGAAGGUAGAGCAAGAUACCGAGACAAAAAUCACCAUCUCCUCGUUGCAAGACCUUACCCUUUACAAC\"\n",
    "# 1.1 Your new sequence (lncRNA)\n",
    "# new_seq = \"GGGCUUCUACUGCCUCUCUUGCUUCUACUGUGCCUCUUCUCUCUACUCUCUCUCUCUCUCUCUCUCUCCUCUCUCUCUCUUCUCUCUACUCCUCUCUCUCUCUCUCUCUCUCUCUCUCUCUCUCUCUCUCUCUCCCUCUCCUCUCUCUCUCUCUCUCUCUCUCUCUCUCUCUCUCUCUCUCUCUCUCUC\"\n",
    "\n",
    "# 2. Extract features\n",
    "features = extract_features(new_seq)\n",
    "\n",
    "# 3. Vectorize using your DictVectorizer\n",
    "new_X = vec.transform([features])\n",
    "\n",
    "# # 4. Train model on all data (if not trained yet)\n",
    "model.fit(X_sparse, y)\n",
    "\n",
    "# 5. Predict\n",
    "prediction = model.predict(new_X)\n",
    "\n",
    "# 6. Print result\n",
    "print(\"mRNA\" if prediction[0] == 1 else \"lncRNA\")\n"
   ]
  },
  {
   "cell_type": "markdown",
   "metadata": {},
   "source": [
    "# Biological question 3: Given a single-cell transcriptome, assign it to a known cell type or discover new ones.\n",
    "\n"
   ]
  },
  {
   "cell_type": "markdown",
   "metadata": {},
   "source": [
    "This is a binary classification problem:\n",
    "\n",
    "Input: RNA sequence (string of A/C/G/U or A/T depending on source)\n",
    "\n",
    "Output: 0 = cytoplasm, 1 = nucleus"
   ]
  },
  {
   "cell_type": "markdown",
   "metadata": {},
   "source": [
    "## Get Dataset from lncATLAS"
   ]
  },
  {
   "cell_type": "code",
   "execution_count": null,
   "metadata": {},
   "outputs": [],
   "source": [
    "print('test')"
   ]
  }
 ],
 "metadata": {
  "kernelspec": {
   "display_name": ".venv",
   "language": "python",
   "name": "python3"
  },
  "language_info": {
   "codemirror_mode": {
    "name": "ipython",
    "version": 3
   },
   "file_extension": ".py",
   "mimetype": "text/x-python",
   "name": "python",
   "nbconvert_exporter": "python",
   "pygments_lexer": "ipython3",
   "version": "3.13.0"
  }
 },
 "nbformat": 4,
 "nbformat_minor": 4
}
